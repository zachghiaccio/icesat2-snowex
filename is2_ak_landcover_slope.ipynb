{
 "cells": [
  {
   "cell_type": "markdown",
   "id": "0aa790fe-c54d-4df0-b18c-6e0ff1be4597",
   "metadata": {
    "user_expressions": []
   },
   "source": [
    "# ICESat-2 Snow Depth Analyses: Land Cover and Slope"
   ]
  },
  {
   "cell_type": "markdown",
   "id": "767f839b-b4c7-474c-b134-cdd646ca81bf",
   "metadata": {
    "user_expressions": []
   },
   "source": [
    "Other notebooks in this repository may be used to derive snow depth from ICESat-2 products. If the main notebook (is2_snowex_ak.ipynb) is used, then a user may generate a CSV of coregistered ICESat-2 and airborne lidar (UAF) surface heights and depths.\n",
    "\n",
    "In this notebook, we are going to use pre-saved CSVs derived from said notebook to perform a land cover and slope analysis. The \"ground_data_processing.py\" and \"lidar_processing.py\" scripts have a few useful functions to help us with this.\n",
    "\n",
    "The \"xrspatial\" package is also required for the slope analysis. It can be installed using the command \"conda install -c conda-forge xarray-spatial\"."
   ]
  },
  {
   "cell_type": "code",
   "execution_count": null,
   "id": "9a7da3e4-9610-4825-bb05-ae1ac32efd6b",
   "metadata": {
    "tags": []
   },
   "outputs": [],
   "source": [
    "import ground_data_processing as gdp\n",
    "import holoviews as hv\n",
    "import hvplot.pandas\n",
    "import numpy as np\n",
    "import os\n",
    "import pandas as pd\n",
    "import rioxarray as rio\n",
    "from xrspatial import hillshade, slope\n",
    "\n",
    "hv.extension('bokeh')"
   ]
  },
  {
   "cell_type": "markdown",
   "id": "e7874436-6270-4227-b6d2-34871aa88551",
   "metadata": {
    "user_expressions": []
   },
   "source": [
    "Let's first load the presaved data for the available field sites in Alaska. The land cover data co-registration can be time consuming, so this notebook only matches with one site at a time, as defined by the user."
   ]
  },
  {
   "cell_type": "code",
   "execution_count": null,
   "id": "5ce211ed-551f-4b79-a0d5-9cd727e504c3",
   "metadata": {
    "tags": []
   },
   "outputs": [],
   "source": [
    "# Load presaved data into DataFrames\n",
    "acp_file = '/home/jovyan/icesat2-snowex/snow-depth-data/acp/atl03_snowdepth_rgt1097_acp_202234.csv'\n",
    "bcef_file = '/home/jovyan/icesat2-snowex/snow-depth-data/bcef/atl03_snowdepth_rgt472_bcef_2022423.csv'\n",
    "cffl_file = '/home/jovyan/icesat2-snowex/snow-depth-data/cffl/atl03_snowdepth_rgt1356_cffl_2022321.csv'\n",
    "cpcrw_file = '/home/jovyan/icesat2-snowex/snow-depth-data/cpcrw/atl03_snowdepth_rgt1356_cpcrw_2022321.csv'\n",
    "\n",
    "acp = pd.read_csv(acp_file, header=0)\n",
    "bcef = pd.read_csv(bcef_file, header=0)\n",
    "cffl = pd.read_csv(cffl_file, header=0)\n",
    "cpcrw = pd.read_csv(cpcrw_file, header=0)"
   ]
  },
  {
   "cell_type": "code",
   "execution_count": null,
   "id": "8f11db3f-8f59-4ebe-b64a-76fa8ee20bc0",
   "metadata": {
    "tags": []
   },
   "outputs": [],
   "source": [
    "# Field ID (same scheme as main notebook)\n",
    "field_id = 'cffl'\n",
    "\n",
    "if field_id == 'acp':\n",
    "    # Derive time string from data\n",
    "    acp['time'] = pd.to_datetime(acp['time'])\n",
    "    acp = acp.set_index('time')\n",
    "\n",
    "    time_str = str(acp.index.year[0]) + \\\n",
    "               str(acp.index.month[0]) + \\\n",
    "               str(acp.index.day[0])\n",
    "    \n",
    "    # Apply relevant ICESat-2 RGT (more generic scheme will be made in the future)\n",
    "    rgt = '1097'\n",
    "elif field_id == 'bcef':\n",
    "    # Derive time string from data\n",
    "    bcef['time'] = pd.to_datetime(bcef['time'])\n",
    "    bcef = bcef.set_index('time')\n",
    "\n",
    "    time_str = str(bcef.index.year[0]) + \\\n",
    "               str(bcef.index.month[0]) + \\\n",
    "               str(bcef.index.day[0])\n",
    "    \n",
    "    # Apply relevant ICESat-2 RGT (more generic scheme will be made in the future)\n",
    "    rgt = '472'\n",
    "elif field_id == 'cffl':\n",
    "    # Derive time string from data\n",
    "    cffl['time'] = pd.to_datetime(cffl['time'])\n",
    "    cffl = cffl.set_index('time')\n",
    "\n",
    "    time_str = str(cffl.index.year[0]) + \\\n",
    "               str(cffl.index.month[0]) + \\\n",
    "               str(cffl.index.day[0])\n",
    "    \n",
    "    # Apply relevant ICESat-2 RGT (more generic scheme will be made in the future)\n",
    "    rgt = '1356'\n",
    "elif field_id == 'cpcrw':\n",
    "    # Derive time string from data\n",
    "    cpcrw['time'] = pd.to_datetime(cpcrw['time'])\n",
    "    cpcrw = cpcrw.set_index('time')\n",
    "\n",
    "    time_str = str(cpcrw.index.year[0]) + \\\n",
    "               str(cpcrw.index.month[0]) + \\\n",
    "               str(cpcrw.index.day[0])\n",
    "    \n",
    "    # Apply relevant ICESat-2 RGT (more generic scheme will be made in the future)\n",
    "    rgt = '1356'"
   ]
  },
  {
   "cell_type": "markdown",
   "id": "98b0a6b0-a16e-43db-96f1-71d7615f8454",
   "metadata": {
    "user_expressions": []
   },
   "source": [
    "## Match with Land Cover Data"
   ]
  },
  {
   "cell_type": "markdown",
   "id": "ef3bd8e1-4b2e-446b-8fcb-2495be16b3e1",
   "metadata": {
    "user_expressions": []
   },
   "source": [
    "The land cover analysis will use data from the National Land Cover Database (NLCD). The relevant land cover rasters over Alaska are in the \"jsons-shps/\" repository."
   ]
  },
  {
   "cell_type": "code",
   "execution_count": null,
   "id": "ed5edf76-d6fa-4af1-bed4-e61eac73a90e",
   "metadata": {
    "tags": []
   },
   "outputs": [],
   "source": [
    "# Read the NCLD raster\n",
    "if (field_id=='cffl') | (field_id=='bcef') | (field_id=='cpcrw'):\n",
    "    tiff = '/home/jovyan/icesat2-snowex/jsons-shps/land-cover-maps/fairbanks_nlcd_2016.tif'\n",
    "elif (field_id=='acp') | (field_id=='trs'):\n",
    "    tiff = '/home/jovyan/icesat2-snowex/jsons-shps/land-cover-maps/acp_nlcd_2016.tif'\n",
    "else:\n",
    "    print('No NLCD tiff found.')\n",
    "    \n",
    "land_cover = rio.open_rasterio(tiff)\n",
    "\n",
    "land_cover"
   ]
  },
  {
   "cell_type": "markdown",
   "id": "b5ecd88f-d50e-452c-88fe-63849edc78e1",
   "metadata": {
    "user_expressions": []
   },
   "source": [
    "NLCD land cover types are given a string-based label and a numeric identifier. We want to preserve these exact numbers, so we cannot use the spline-based interpolation scheme we used for the lidar. So, the below cell instead uses a slower nearest-neighbor approach and saves coregistered land types into a text file.\n",
    "\n",
    "Because ICESat-2 tracks vary slightly with each repeat cycle, the NLCD coregistration scheme will need to be run with any new ICESat-2 track. Otherwise, if the land cover text file already exists, then the below cell simply loads that text file."
   ]
  },
  {
   "cell_type": "code",
   "execution_count": null,
   "id": "1d25fd3e-1204-46fc-9783-9acb88f818c6",
   "metadata": {
    "tags": []
   },
   "outputs": [],
   "source": [
    "# Check if land cover data already exists for the field site\n",
    "fname = f'coregistered_nlcd_rgt{rgt}_{field_id}_{time_str}.txt'\n",
    "if os.path.isfile(fname):\n",
    "    print('Land cover data already exists.')\n",
    "else:\n",
    "    gdp.coregister_nlcd_data(atl03_uaf_filtered, land_cover, fname)\n",
    "    \n",
    "atl03_uaf_nlcd = gdp.process_nlcd_data(cffl, fname)\n",
    "\n",
    "print(np.unique(atl03_uaf_nlcd['land_cover']))"
   ]
  },
  {
   "cell_type": "markdown",
   "id": "465b90e7-cdb5-4ab8-a471-7c34347ee2c1",
   "metadata": {
    "user_expressions": []
   },
   "source": [
    "Let's now see how ICESat-2 snow depths are distributed across land cover type."
   ]
  },
  {
   "cell_type": "code",
   "execution_count": null,
   "id": "22196496-3b1c-4e98-94eb-e028e3937707",
   "metadata": {
    "tags": []
   },
   "outputs": [],
   "source": [
    "# Make a boxplot grouping ICESat-2 snow depths by land cover\n",
    "boxplot = atl03_uaf_nlcd.hvplot.box(y='residual', by='land_cover').opts(xlabel='Land Cover',\n",
    "                                                                        ylabel='ICESat-2 snow depth [m]')\n",
    "boxplot"
   ]
  },
  {
   "cell_type": "markdown",
   "id": "bd46d93f-df25-4703-863e-eef99f7332d4",
   "metadata": {
    "user_expressions": []
   },
   "source": [
    "## Slope Analysis"
   ]
  },
  {
   "cell_type": "markdown",
   "id": "ccb735c4-7a8e-4412-8a3b-f4fb7e26b02e",
   "metadata": {
    "user_expressions": []
   },
   "source": [
    "We are now going to perform a similar analysis related to slope patterns across the field sites. Note that the presaved data already includes derived slope estimates from the ICESat-2 ATL03 data. Just to make sure they are similar, we are going to estimate surface slope from the UAF lidar data as well."
   ]
  },
  {
   "cell_type": "code",
   "execution_count": null,
   "id": "4252c245-9a2a-40af-ad15-bd7e9f1c9d1b",
   "metadata": {
    "tags": []
   },
   "outputs": [],
   "source": [
    "# Estimate along-track UAF slope\n",
    "dh = cpcrw['lidar_height'].diff()\n",
    "cpcrw['lidar_slope'] = np.arctan(dh/10) * (180/np.pi) # degrees\n",
    "\n",
    "cpcrw['lidar_slope'].head()"
   ]
  },
  {
   "cell_type": "code",
   "execution_count": null,
   "id": "855704bc-daa7-4f33-9474-63009eaa3f62",
   "metadata": {
    "tags": []
   },
   "outputs": [],
   "source": [
    "# Convert ICESat-2 slope to degrees\n",
    "cpcrw['is2_slope'] = cpcrw['is2_slope'] * (180/np.pi)\n",
    "\n",
    "#Make a scatter plot comparing the two slope patterns\n",
    "scatter_plot = cpcrw.hvplot(kind='scatter', x='lidar_slope', y='is2_slope',\n",
    "                            alpha=0.5)\n",
    "scatter_plot.opts(xlabel='UAF slope', ylabel='ICESat-2 slope', fontscale=1.5)"
   ]
  },
  {
   "cell_type": "markdown",
   "id": "cbdca7be-00b9-44b2-94a6-e0b227068428",
   "metadata": {
    "user_expressions": []
   },
   "source": [
    "Overall, it looks like the derived slopes agree pretty well with each other. Let's now see if there is any relationship between ICESat-2 slope and the snow depth residuals."
   ]
  },
  {
   "cell_type": "code",
   "execution_count": null,
   "id": "017f0cbb-f884-4288-a264-0ec376c56123",
   "metadata": {
    "tags": []
   },
   "outputs": [],
   "source": [
    "# Make a scatter plot of ICESat-2 slope vs. IS2/UAF depth residuals\n",
    "scatter_plot = cpcrw.hvplot(kind='scatter', x='is2_slope', y='snow_depth_residual',\n",
    "                            alpha=0.5)\n",
    "scatter_plot.opts(xlabel='ICESat-2 slope', ylabel='IS2-UAF depth residual [m]',\n",
    "                  fontscale=1.5, ylim=(-1.5,1.5))"
   ]
  },
  {
   "cell_type": "code",
   "execution_count": null,
   "id": "a69d4057-2597-4444-a01f-d718e448d50d",
   "metadata": {},
   "outputs": [],
   "source": []
  }
 ],
 "metadata": {
  "kernelspec": {
   "display_name": "base",
   "language": "python",
   "name": "base"
  },
  "language_info": {
   "codemirror_mode": {
    "name": "ipython",
    "version": 3
   },
   "file_extension": ".py",
   "mimetype": "text/x-python",
   "name": "python",
   "nbconvert_exporter": "python",
   "pygments_lexer": "ipython3",
   "version": "3.10.8"
  }
 },
 "nbformat": 4,
 "nbformat_minor": 5
}
