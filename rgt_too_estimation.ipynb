{
 "cells": [
  {
   "cell_type": "code",
   "execution_count": null,
   "id": "f1b44441-0729-4beb-8e37-9718a4a69330",
   "metadata": {},
   "outputs": [],
   "source": [
    "import geopandas as gpd\n",
    "import numpy as np\n",
    "import shapely\n",
    "from shapely import Point, LineString, MultiPoint, MultiLineString"
   ]
  },
  {
   "cell_type": "code",
   "execution_count": null,
   "id": "3a7ab775-c296-4691-bc67-aa5c4f53ff7b",
   "metadata": {
    "tags": []
   },
   "outputs": [],
   "source": [
    "# Load geoJSON of ICESat-2 tracks over a given site\n",
    "rgt_file = '/home/jovyan/EverythingAnyWhereAllAtOnce/scripts/tls_beams.geojson'\n",
    "rgt_df = gpd.read_file(rgt_file, driver='geoJSON')\n",
    "\n",
    "# Read in the SnowEx lidar boxes\n",
    "lidar_file = '/home/jovyan/snowex_lidar_swaths.shp'\n",
    "lidar_df = gpd.read_file(lidar_file, driver='shp')"
   ]
  },
  {
   "cell_type": "code",
   "execution_count": null,
   "id": "b5fc0ea3-2b45-40ef-a3fc-a9ad8c4832ca",
   "metadata": {
    "tags": []
   },
   "outputs": [],
   "source": [
    "# View the available RGTs\n",
    "print(np.unique(rgt_df['rgt']))"
   ]
  },
  {
   "cell_type": "code",
   "execution_count": null,
   "id": "94c3f2cc-d9af-48f3-ba5e-bf3b3029af1a",
   "metadata": {
    "tags": []
   },
   "outputs": [],
   "source": [
    "# Subset RGTs to a desired month\n",
    "rgt_lines = rgt_df[rgt_df['time_str'].str.contains('Oct')]\n",
    "rgt_lines"
   ]
  },
  {
   "cell_type": "code",
   "execution_count": null,
   "id": "50b48330-398e-4fb9-8553-2a7ea710e626",
   "metadata": {
    "tags": []
   },
   "outputs": [],
   "source": [
    "# Make a quick map to view the available RGTs\n",
    "m = lidar_df.explore(tiles='Esri.WorldImagery')\n",
    "rgt_lines.explore(m=m, color='red')"
   ]
  },
  {
   "cell_type": "code",
   "execution_count": null,
   "id": "e9f80fa7-9344-4be6-a181-b9018625c5df",
   "metadata": {},
   "outputs": [],
   "source": [
    "# Approximate the change in distance between an RGT and the desired TOO point\n",
    "# WORK IN PROGRESS\n",
    "dellat = latn - lat0\n",
    "dellon = lonn - lon0\n",
    "\n",
    "for i,rgt in enumerate(rgt_lines['rgt']):\n",
    "    # Loop through each RGT\n",
    "    tmp = rgt_lines[rgt_lines['rgt']==rgt]\n",
    "    \n",
    "    # Process linestrings\n",
    "    line = tmp[tmp.geom_type=='LineString'].geometry.coords\n",
    "    dellat = line[1] - lat0\n",
    "    dellon = line[0] - lon0\n",
    "    line_too = LineString([Point(t[0]+dellon,t[1]+dellat) for t in line])\n",
    "    \n",
    "    # Process points\n",
    "    point = tmp[tmp.geom_type=='Point'].geometry.coords\n",
    "    point_too = Point([t[0]+dellon,t[1]+dellat) for t in point])\n",
    "    \n",
    "    # Process multipoints - needs looping for account for all beam paths\n",
    "    for i in [0, 1, 2]:\n",
    "        multipoint = tmp[tmp.geom_type=='MultiPoint'].geometry.geoms[i].coords\n",
    "        multipoint_too = MultiPoint([t[0]+dellon,t[1]+dellat) for t in multipoint])"
   ]
  }
 ],
 "metadata": {
  "kernelspec": {
   "display_name": "base",
   "language": "python",
   "name": "base"
  },
  "language_info": {
   "codemirror_mode": {
    "name": "ipython",
    "version": 3
   },
   "file_extension": ".py",
   "mimetype": "text/x-python",
   "name": "python",
   "nbconvert_exporter": "python",
   "pygments_lexer": "ipython3",
   "version": "3.10.12"
  }
 },
 "nbformat": 4,
 "nbformat_minor": 5
}
