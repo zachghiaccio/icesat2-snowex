{
 "cells": [
  {
   "cell_type": "markdown",
   "id": "66def340-85c1-4974-ad58-2ce6fa581fa6",
   "metadata": {
    "user_expressions": []
   },
   "source": [
    "# Alaska Plotting Notebook\n",
    "This notebook takes data generated from other scripts to generate plots. Plots include the plots that are given in Fair et al., (in prep).\n",
    "\n",
    "Requires the latest version of Seaborn, otherwise a few of the cells will return errors. If you are unsure if you have the latest version, run the below cell."
   ]
  },
  {
   "cell_type": "code",
   "execution_count": null,
   "id": "30584994-e65b-4487-8b5e-dee1b3b4c181",
   "metadata": {},
   "outputs": [],
   "source": [
    "%pip install --upgrade seaborn"
   ]
  },
  {
   "cell_type": "code",
   "execution_count": null,
   "id": "7aea5b5a-0bb0-46e8-ab80-b5dabab4fa1a",
   "metadata": {
    "tags": []
   },
   "outputs": [],
   "source": [
    "from cartopy import crs\n",
    "import geopandas as gpd\n",
    "import matplotlib.pyplot as plt\n",
    "import numpy as np\n",
    "import pandas as pd\n",
    "from shapely.geometry import Polygon, Point\n",
    "import seaborn as sns\n",
    "import scipy as sp\n",
    "from scipy.stats import median_abs_deviation as mad\n",
    "import plotly.express as px\n",
    "from plotly.subplots import make_subplots\n",
    "import plotly.graph_objects as go\n",
    "from matplotlib.ticker import StrMethodFormatter"
   ]
  },
  {
   "cell_type": "markdown",
   "id": "7bcd8e2f-d684-4bbd-bc23-5c6e8d02301a",
   "metadata": {
    "user_expressions": []
   },
   "source": [
    "## Snow Depth Comparisons\n",
    "\n",
    "Generates Figures 5 and 6 from Fair et al., (in prep), which include along-track plots of snow depth (top row), scatter plot correlations (middle row) and depth residual histograms (bottom row). Separate cells are given for Creamer's Field and Toolik."
   ]
  },
  {
   "cell_type": "markdown",
   "id": "7a49b7b6-687f-476b-8c91-2500a371bde5",
   "metadata": {},
   "source": [
    "### Creamer's Field Snow Depths"
   ]
  },
  {
   "cell_type": "code",
   "execution_count": null,
   "id": "f3408dd8-d0c1-496b-98ba-d55fab8d15be",
   "metadata": {},
   "outputs": [],
   "source": [
    "# Read the co-located ICESat-2/UAF data\n",
    "dfsr = pd.read_csv('/home/jovyan/icesat2-snowex/snow-depth-data/cffl/atl06sr_snowdepth_rgt1356_cffl_2022321_442010.csv')\n",
    "df06 = pd.read_csv('/home/jovyan/icesat2-snowex/snow-depth-data/cffl/atl06_snowdepth_rgt1356_cffl_2022321.csv')\n",
    "df08 = pd.read_csv('/home/jovyan/icesat2-snowex/snow-depth-data/cffl/atl08_snowdepth_rgt1356_cffl_2022321.csv')\n",
    "\n",
    "# Remove filler values from depth data\n",
    "dfsr['lidar_snow_depth'][dfsr['lidar_snow_depth']>2] = np.nan\n",
    "df06['lidar_snow_depth'][df06['lidar_snow_depth']>2] = np.nan\n",
    "dfsr['lidar_snow_depth'][dfsr['lidar_snow_depth']>2] = np.nan\n",
    "df06['lidar_snow_depth'][df06['lidar_snow_depth']>2] = np.nan"
   ]
  },
  {
   "cell_type": "code",
   "execution_count": null,
   "id": "b5bb4777-bb35-4e3b-930b-eb8d9792ece5",
   "metadata": {},
   "outputs": [],
   "source": [
    "# Derive r2 values between snow depths\n",
    "df06_r2 = df06[df06['beam']==5].dropna()\n",
    "linreg06 = sp.stats.linregress(df06_r2['lidar_snow_depth'], df06_r2['is2_snow_depth'])\n",
    "df08_r2 = df08[df08['beam']==5].dropna()\n",
    "linreg08 = sp.stats.linregress(df08_r2['lidar_snow_depth'], df08_r2['is2_snow_depth'])\n",
    "dfsr_r2 = dfsr[(dfsr['beam']==50)&(dfsr['is2_snow_depth']>0)].dropna()\n",
    "linregsr = sp.stats.linregress(dfsr_r2['lidar_snow_depth'], dfsr_r2['is2_snow_depth'])"
   ]
  },
  {
   "cell_type": "code",
   "execution_count": null,
   "id": "df573e5a-816c-4533-8929-b6e2020e7897",
   "metadata": {},
   "outputs": [],
   "source": [
    "# Derive weights for residual histograms\n",
    "w06 = np.ones_like(df06['snow_depth_residual'][df06['beam']==5])/float(len(df06['snow_depth_residual'][df06['beam']==5]))\n",
    "w08 = np.ones_like(df08['snow_depth_residual'][df08['beam']==5])/float(len(df08['snow_depth_residual'][df08['beam']==5]))\n",
    "wsr = np.ones_like(dfsr['snow_depth_residual'][(dfsr['beam']==50)])/float(len(dfsr['snow_depth_residual'][(dfsr['beam']==50)]))\n",
    "\n",
    "# Calculate NMAD of depth residuals\n",
    "nmad06 = 1.4826*mad(df06['snow_depth_residual'][df06['beam']==5].dropna())\n",
    "nmad08 = 1.4826*mad(df08['snow_depth_residual'][df08['beam']==5].dropna())\n",
    "nmadsr = 1.4826*mad(dfsr['snow_depth_residual'][(dfsr['beam']==50)].dropna())"
   ]
  },
  {
   "cell_type": "code",
   "execution_count": null,
   "id": "b9fc9ef2-a3dd-495e-8bd1-50ec3f196b1f",
   "metadata": {
    "tags": []
   },
   "outputs": [],
   "source": [
    "fig, ax = plt.subplots(3,3, figsize=(12, 9))\n",
    "## Line plots\n",
    "#----------------#\n",
    "# ATL06\n",
    "ax[0,0].plot(df06['lat'][df06['beam']==5], df06['is2_snow_depth'][df06['beam']==5], label='ICESat-2', linewidth=3)\n",
    "ax[0,0].plot(df06['lat'][df06['beam']==5], df06['lidar_snow_depth'][df06['beam']==5], label='UAF')\n",
    "ax[0,0].set_title('ATL06')\n",
    "ax[0,0].set_ylabel('Snow depth [m]', fontsize=14)\n",
    "ax[0,0].set_xlim([64.861, 64.884])\n",
    "ax[0,0].set_ylim([0, 1.75])\n",
    "ax[0,0].legend(loc='upper right')\n",
    "ax[0,0].yaxis.set_major_formatter('{x:9<3.1f}')\n",
    "ax[0,0].set_xticks([64.865, 64.870, 64.875, 64.88])\n",
    "ax[0,0].tick_params(axis='both', which='major', labelsize=12)\n",
    "ax[0,0].annotate(\"(a)\", (64.862, 1.5), fontsize=16, bbox=dict(facecolor='white', alpha=0.75))\n",
    "ax[0,0].grid(True)\n",
    "# ATL08\n",
    "ax[0,1].plot(df08['lat'][df08['beam']==5], df08['is2_snow_depth'][df08['beam']==5], label='ICESat-2', linewidth=3)\n",
    "ax[0,1].plot(df08['lat'][df08['beam']==5], df08['lidar_snow_depth'][df08['beam']==5], label='UAF')\n",
    "ax[0,1].set_title('ATL08')\n",
    "ax[0,1].set_xlabel('Latitude', fontsize=14)\n",
    "ax[0,1].set_xlim([64.861, 64.884])\n",
    "ax[0,1].set_ylim([0, 1.75])\n",
    "ax[0,1].yaxis.set_major_formatter('{x:9<3.1f}')\n",
    "ax[0,1].set_xticks([64.865, 64.870, 64.875, 64.88])\n",
    "ax[0,1].tick_params(axis='both', which='major', labelsize=12)\n",
    "ax[0,1].annotate(\"(b)\", (64.862, 1.5), fontsize=16, bbox=dict(facecolor='white', alpha=0.5))\n",
    "ax[0,1].grid(True)\n",
    "# ATL06-SR\n",
    "ax[0,2].plot(dfsr['lat'][(dfsr['beam']==50)],\n",
    "           dfsr['is2_snow_depth'][(dfsr['beam']==50)],\n",
    "           label='ICESat-2', linewidth=3)\n",
    "ax[0,2].plot(dfsr['lat'][(dfsr['beam']==50)],\n",
    "           dfsr['lidar_snow_depth'][(dfsr['beam']==50)],\n",
    "           label='UAF')\n",
    "ax[0,2].set_title('ATL06-SR')\n",
    "ax[0,2].set_xlim([64.861, 64.884])\n",
    "ax[0,2].set_ylim([0, 1.75])\n",
    "ax[0,2].yaxis.set_major_formatter('{x:9<3.1f}')\n",
    "ax[0,2].set_xticks([64.865, 64.870, 64.875, 64.88])\n",
    "ax[0,2].tick_params(axis='both', which='major', labelsize=12)\n",
    "ax[0,2].annotate(\"(c)\", (64.862, 1.5), fontsize=16, bbox=dict(facecolor='white', alpha=0.5))\n",
    "ax[0,2].grid(True)\n",
    "\n",
    "## Scatter plots\n",
    "#----------------#\n",
    "# ATL06\n",
    "sns.scatterplot(data=df06[df06['beam']==5], x='lidar_snow_depth', y='is2_snow_depth', ax=ax[1,0])\n",
    "ax[1,0].plot(np.linspace(0, 1.5, 25), np.linspace(0, 1.5, 25), color='black', linestyle='--', alpha=0.75)\n",
    "ax[1,0].set_xlabel(' ')\n",
    "ax[1,0].set_ylabel('ICESat-2 snow depth [m]', fontsize=14)\n",
    "ax[1,0].set_xlim([0, 1.5])\n",
    "ax[1,0].set_ylim([0, 1.5])\n",
    "ax[1,0].xaxis.set_major_formatter('{x:9<3.1f}')\n",
    "ax[1,0].yaxis.set_major_formatter('{x:9<3.1f}')\n",
    "ax[1,0].tick_params(axis='both', which='major', labelsize=12)\n",
    "ax[1,0].annotate(\"r$^2$ = {:.2f}\".format(linreg06.rvalue), (0.8, 0.15), fontsize=12)\n",
    "ax[1,0].annotate(\"(d)\", (0.05, 1.3), fontsize=16, bbox=dict(facecolor='white', alpha=0.5))\n",
    "ax[1,0].grid(True, alpha=0.3)\n",
    "# ATL08\n",
    "sns.scatterplot(data=df08[df08['beam']==5], x='lidar_snow_depth', y='is2_snow_depth', ax=ax[1,1])\n",
    "ax[1,1].plot(np.linspace(0, 1.5, 25), np.linspace(0, 1.5, 25), color='black', linestyle='--', alpha=0.75)\n",
    "ax[1,1].set_xlabel('UAF snow depth [m]', fontsize=14)\n",
    "ax[1,1].set_ylabel(' ')\n",
    "ax[1,1].set_xlim([0, 1.5])\n",
    "ax[1,1].set_ylim([0, 1.5])\n",
    "ax[1,1].xaxis.set_major_formatter('{x:9<3.1f}')\n",
    "ax[1,1].yaxis.set_major_formatter('{x:9<3.1f}')\n",
    "ax[1,1].tick_params(axis='both', which='major', labelsize=12)\n",
    "ax[1,1].annotate(\"r$^2$ = {:.2f}\".format(linreg08.rvalue), (0.8, 0.15), fontsize=12)\n",
    "ax[1,1].annotate(\"(e)\", (0.05, 1.3), fontsize=16, bbox=dict(facecolor='white', alpha=0.5))\n",
    "ax[1,1].grid(True, alpha=0.3)\n",
    "# ATL06-SR\n",
    "sns.scatterplot(data=dfsr[(dfsr['beam']==50)&(dfsr['is2_height']>0)], x='lidar_snow_depth', y='is2_snow_depth', ax=ax[1,2])\n",
    "ax[1,2].plot(np.linspace(0, 1.5, 25), np.linspace(0, 1.5, 25), color='black', linestyle='--', alpha=0.75)\n",
    "ax[1,2].set_xlabel(' ')\n",
    "ax[1,2].set_ylabel(' ')\n",
    "ax[1,2].set_xlim([0, 1.5])\n",
    "ax[1,2].set_ylim([0, 1.5])\n",
    "ax[1,2].xaxis.set_major_formatter('{x:9<3.1f}')\n",
    "ax[1,2].yaxis.set_major_formatter('{x:9<3.1f}')\n",
    "ax[1,2].tick_params(axis='both', which='major', labelsize=12)\n",
    "ax[1,2].annotate(\"r$^2$ = {:.2f}\".format(linregsr.rvalue), (0.8, 0.15), fontsize=12)\n",
    "ax[1,2].annotate(\"(f)\", (0.05, 1.3), fontsize=16, bbox=dict(facecolor='white', alpha=0.5))\n",
    "ax[1,2].grid(True, alpha=0.3)\n",
    "\n",
    "## Histogram plots\n",
    "#----------------#\n",
    "# ATL06\n",
    "sns.histplot(data=df06[(df06['beam']==5)], x='snow_depth_residual', ax=ax[2,0],\n",
    "             bins=25,\n",
    "             weights=w06)\n",
    "ax[2,0].set_xlabel(' ')\n",
    "ax[2,0].set_ylabel('Frequency', fontsize=14)\n",
    "ax[2,0].xaxis.set_major_formatter('{x:9<3.1f}')\n",
    "ax[2,0].set_xlim([-0.45, 0.45])\n",
    "ax[2,0].set_ylim([0, 0.4])\n",
    "ax[2,0].yaxis.grid(True)\n",
    "ax[2,0].tick_params(axis='both', which='major', labelsize=12)\n",
    "ax[2,0].annotate(\"Bias = {:.1f} cm\".format(100*df06['snow_depth_residual'][df06['beam']==5].median()), (-0.3, 0.32), fontsize=12)\n",
    "ax[2,0].annotate(\"NMAD = {:.0f} cm\".format(100*nmad06), (-0.3, 0.27), fontsize=12)\n",
    "ax[2,0].annotate(\"(g)\", (-0.435, 0.355), fontsize=16, bbox=dict(facecolor='white', alpha=0.5))\n",
    "# ATL08\n",
    "sns.histplot(data=df08[df08['beam']==5], x='snow_depth_residual', ax=ax[2,1],\n",
    "             bins=16,\n",
    "             weights=w08)\n",
    "ax[2,1].set_xlabel('IS2-UAF depth residual [m]', fontsize=14)\n",
    "ax[2,1].set_ylabel(' ')\n",
    "ax[2,1].xaxis.set_major_formatter('{x:9<3.1f}')\n",
    "ax[2,1].set_xlim([-0.45, 0.45])\n",
    "ax[2,1].set_ylim([0, 0.4])\n",
    "ax[2,1].yaxis.grid(True)\n",
    "ax[2,1].tick_params(axis='both', which='major', labelsize=12)\n",
    "ax[2,1].annotate(\"Bias = {:.0f} cm\".format(100*df08['snow_depth_residual'][df08['beam']==5].median()), (-0.3, 0.32), fontsize=12)\n",
    "ax[2,1].annotate(\"NMAD = {:.0f} cm\".format(100*nmad08), (-0.3, 0.27), fontsize=12)\n",
    "ax[2,1].annotate(\"(h)\", (-0.435, 0.355), fontsize=16, bbox=dict(facecolor='white', alpha=0.5))\n",
    "# ATL06-SR\n",
    "sns.histplot(data=dfsr[(dfsr['beam']==50)], x='snow_depth_residual', ax=ax[2,2],\n",
    "             bins=20,\n",
    "             weights=wsr)\n",
    "ax[2,2].xaxis.set_major_formatter('{x:9<3.1f}')\n",
    "ax[2,2].set_xlabel(' ')\n",
    "ax[2,2].set_ylabel(' ')\n",
    "ax[2,2].set_xlim([-0.45, 0.45])\n",
    "ax[2,2].set_ylim([0, 0.4])\n",
    "ax[2,2].yaxis.grid(True)\n",
    "ax[2,2].tick_params(axis='both', which='major', labelsize=12)\n",
    "ax[2,2].annotate(\"Bias = {:.1f} cm\".format(100*dfsr['snow_depth_residual'][(dfsr['beam']==50)].median()), (-0.3, 0.32), fontsize=12)\n",
    "ax[2,2].annotate(\"NMAD = {:.0f} cm\".format(100*nmadsr), (-0.3, 0.27), fontsize=12)\n",
    "ax[2,2].annotate(\"(i)\", (-0.435, 0.355), fontsize=16, bbox=dict(facecolor='white', alpha=0.5))\n",
    "plt.tight_layout()\n",
    "#plt.savefig('/home/jovyan/icesat2-snowex/figures/cffl/is2_uaf_snowdepth_multipanel_rgt1356_cffl_2022321.png', dpi=500)"
   ]
  },
  {
   "cell_type": "markdown",
   "id": "49545ffd-4422-4516-b90d-b4d3b1c57979",
   "metadata": {
    "user_expressions": []
   },
   "source": [
    "## Filtered FLCF Plot\n",
    "Code to generate Figure 10 from Fair et al., (in prep). Creates a line plot, a scatter plot, and a histogram plot for ICESat-2/UAF snow depths, with ICESat-2 returns filtered by photon count (N > 110)."
   ]
  },
  {
   "cell_type": "code",
   "execution_count": null,
   "id": "598a04a1-5e66-4ede-8eca-3ec9a0df9e3f",
   "metadata": {
    "tags": []
   },
   "outputs": [],
   "source": [
    "# Calculate r2 value for filtered ATL06-SR returns\n",
    "dfsr_r2 = dfsr[(dfsr['beam']==50)&(dfsr['n_fit_photons']>=110)].dropna()\n",
    "linregsr = sp.stats.linregress(dfsr_r2['lidar_snow_depth'], dfsr_r2['is2_snow_depth'])\n",
    "\n",
    "# Generate weights, NMAD for filtered ATL06-SR histograms\n",
    "wsr = np.ones_like(dfsr['snow_depth_residual'][(dfsr['beam']==50)&(dfsr['n_fit_photons']>=110)])/float(len(dfsr['snow_depth_residual'][(dfsr['beam']==50)&(dfsr['n_fit_photons']>=110)]))\n",
    "nmadsr = 1.4826*mad(dfsr['snow_depth_residual'][(dfsr['beam']==50)&(dfsr['n_fit_photons']>=110)].dropna())\n",
    "\n",
    "fig, ax = plt.subplots(3, 1, figsize=(6,9))\n",
    "## Line plot\n",
    "#----------------#\n",
    "ax[0].plot(dfsr['lat'][(dfsr['beam']==50)&(dfsr['n_fit_photons']>=110)], \n",
    "           dfsr['is2_snow_depth'][(dfsr['beam']==50)&(dfsr['n_fit_photons']>=110)], \n",
    "           label='ICESat-2', linewidth=3)\n",
    "ax[0].plot(dfsr['lat'][(dfsr['beam']==50)&(dfsr['n_fit_photons']>=110)],\n",
    "           dfsr['lidar_snow_depth'][(dfsr['beam']==50)&(dfsr['n_fit_photons']>=110)],\n",
    "           label='UAF')\n",
    "ax[0].set_xlabel('Latitude', fontsize=14)\n",
    "ax[0].set_ylabel('Snow depth [m]', fontsize=14)\n",
    "ax[0].set_xlim([64.861, 64.884])\n",
    "ax[0].set_ylim([0, 1.75])\n",
    "ax[0].yaxis.set_major_formatter('{x:9<3.1f}')\n",
    "#ax[0].set_xticks([64.86, 64.865, 64.87, 64.875, 64.88, 64.885])\n",
    "fig.tight_layout()\n",
    "ax[0].grid(True)\n",
    "ax[0].legend(loc='upper right')\n",
    "ax[0].annotate(\"(a)\", (64.8615, 1.56), fontsize=16, bbox=dict(facecolor='white', alpha=0.5))\n",
    "ax[0].tick_params(axis='both', which='major', labelsize=12)\n",
    "\n",
    "## Scatter plot\n",
    "#----------------#\n",
    "sns.scatterplot(data=dfsr[(dfsr['beam']==50)&(dfsr['n_fit_photons']>=110)], x='lidar_snow_depth', y='is2_snow_depth', ax=ax[1])\n",
    "ax[1].plot(np.linspace(0, 1.5, 25), np.linspace(0, 1.5, 25), color='black', linestyle='--', alpha=0.75)\n",
    "ax[1].set_xlabel(' ')\n",
    "ax[1].set_ylabel(' ')\n",
    "ax[1].set_xlim([0, 1.5])\n",
    "ax[1].set_ylim([0, 1.5])\n",
    "ax[1].set_xlabel('UAF snow depth [m]', fontsize=14)\n",
    "ax[1].set_ylabel('ICESat-2 snow depth [m]', fontsize=14)\n",
    "ax[1].xaxis.set_major_formatter('{x:9<3.1f}')\n",
    "ax[1].yaxis.set_major_formatter('{x:9<3.1f}')\n",
    "ax[1].annotate(\"r$^2$ = {:.2f}\".format(linregsr.rvalue), (1, 0.22), fontsize=12)\n",
    "ax[1].annotate(\"(b)\", (0.05, 1.335), fontsize=16, bbox=dict(facecolor='white', alpha=0.5))\n",
    "ax[1].grid(True, alpha=0.3)\n",
    "ax[1].tick_params(axis='both', which='major', labelsize=12)\n",
    "plt.tight_layout()\n",
    "\n",
    "## Histogram plot\n",
    "#----------------#\n",
    "dfsr['snow_depth_residual'][dfsr['snow_depth_residual'].abs()>1] = np.nan\n",
    "sns.histplot(data=dfsr[(dfsr['beam']==50)&(dfsr['n_fit_photons']>=110)], x='snow_depth_residual', ax=ax[2],\n",
    "             bins=25,\n",
    "             weights=wsr)\n",
    "ax[2].xaxis.set_major_formatter('{x:9<3.1f}')\n",
    "ax[2].set_xlabel(' ')\n",
    "ax[2].set_ylabel(' ')\n",
    "ax[2].set_xlabel('IS2-UAF depth residual [m]', fontsize=14)\n",
    "ax[2].set_ylabel('Frequency', fontsize=14)\n",
    "ax[2].set_xlim([-0.5, 0.5])\n",
    "ax[2].yaxis.grid(True)\n",
    "ax[2].annotate(\"Bias = {:.1f} cm\".format(100*dfsr['snow_depth_residual'][(dfsr['beam']==50)&(dfsr['n_fit_photons']>=110)].median()), (0.2, 0.155), fontsize=12)\n",
    "ax[2].annotate(\"NMAD = {:.1f} cm\".format(100*nmadsr), (0.2, 0.135), fontsize=12)\n",
    "ax[2].annotate(\"(c)\", (-0.47, 0.17), fontsize=16, bbox=dict(facecolor='white', alpha=0.5))\n",
    "ax[2].tick_params(axis='both', which='major', labelsize=12)\n",
    "plt.tight_layout()"
   ]
  },
  {
   "cell_type": "markdown",
   "id": "fa54b842-6da7-4b50-9206-6be1a578b625",
   "metadata": {
    "user_expressions": []
   },
   "source": [
    "## Signal Photon KDE Plot\n",
    "Generates Figure 9 from Fair et al., (in prep). Plots the number of signal photons from ATL06-SR segments as KDE plots by site (a), all UKT tracks (b), and all FLCF tracks (c)."
   ]
  },
  {
   "cell_type": "code",
   "execution_count": null,
   "id": "1e2530b6-56f9-4b4c-864b-9fbe8e15df2a",
   "metadata": {},
   "outputs": [],
   "source": [
    "# Create GeoDataFrame of FLCF data\n",
    "df = pd.read_csv('/home/jovyan/icesat2-snowex/snow-depth-data/cffl/atl06sr_snowdepth_rgtall_cffl_2022-2023_442010.csv')\n",
    "df['geometry'] = df['geometry'].apply(wkt.loads)\n",
    "gdf = gpd.GeoDataFrame(df, geometry=df['geometry'], crs=\"EPSG:4326\")\n",
    "\n",
    "# Do the same for UKT\n",
    "df_utk = pd.read_csv('/home/jovyan/icesat2-snowex/snow-depth-data/utk/atl06sr_snowdepth_rgtall_utk_2022-2023_442010.csv')\n",
    "df_utk['geometry'] = df_utk['geometry'].apply(wkt.loads)\n",
    "gdf_utk = gpd.GeoDataFrame(df_utk, geometry=df_utk['geometry'], crs=\"EPSG:4326\")"
   ]
  },
  {
   "cell_type": "code",
   "execution_count": null,
   "id": "22dbf2d2-3288-4059-96dd-e45fe1f4a773",
   "metadata": {},
   "outputs": [],
   "source": [
    "# Add \"month\" column to each DataFrame\n",
    "gdf['month'] = pd.to_datetime(gdf['time']).dt.month\n",
    "gdf_utk['month'] = pd.to_datetime(gdf_utk['time']).dt.month"
   ]
  },
  {
   "cell_type": "code",
   "execution_count": null,
   "id": "384273c8-f1c0-40c9-a381-c6748264d0a8",
   "metadata": {},
   "outputs": [],
   "source": [
    "# Determine yaw orientation of ICESat-2\n",
    "gdf_preflip = gdf[gdf['month']<6]\n",
    "gdf_postflip = gdf[gdf['month']>=6]\n",
    "gdf_preflip_utk = gdf_utk[gdf_utk['month']<6]\n",
    "gdf_postflip_utk = gdf_utk[gdf_utk['month']>=6]\n",
    "\n",
    "# Create DataFrames of strong beams only, based on yaw orientation (FLCF)\n",
    "try:\n",
    "    gdf_preflip_strong = gdf_preflip[(gdf_preflip['beam']==10)|(gdf_preflip['beam']==30)|(gdf_preflip['beam']==50)]\n",
    "    gdf_postflip_strong = gdf_postflip[(gdf_postflip['beam']==20)|(gdf_postflip['beam']==40)|(gdf_postflip['beam']==60)]\n",
    "except:\n",
    "    gdf_preflip_strong = gdf_preflip[(gdf_preflip['gt']==10)|(gdf_preflip['gt']==30)|(gdf_preflip['gt']==50)]\n",
    "    gdf_postflip_strong = gdf_postflip[(gdf_postflip['gt']==20)|(gdf_postflip['gt']==40)|(gdf_postflip['gt']==60)]\n",
    "\n",
    "# Create DataFrames of strong beams only, based on yaw orientation (UKT)\n",
    "try:\n",
    "    gdf_preflip_strong_utk = gdf_preflip_utk[(gdf_preflip_utk['beam']==10)|(gdf_preflip_utk['beam']==30)|(gdf_preflip_utk['beam']==50)]\n",
    "    gdf_postflip_strong_utk = gdf_postflip_utk[(gdf_postflip_utk['beam']==20)|(gdf_postflip_utk['beam']==40)|(gdf_postflip_utk['beam']==60)]\n",
    "except:\n",
    "    gdf_preflip_strong_utk = gdf_preflip_utk[(gdf_preflip_utk['gt']==10)|(gdf_preflip_utk['gt']==30)|(gdf_preflip_utk['gt']==50)]\n",
    "    gdf_postflip_strong_utk = gdf_postflip_utk[(gdf_postflip_utk['gt']==20)|(gdf_postflip_utk['gt']==40)|(gdf_postflip_utk['gt']==60)]\n",
    "\n",
    "# Concatenate pre-flip, post-flip dataframes for each site\n",
    "gdf_strong = pd.concat([gdf_preflip_strong, gdf_postflip_strong])\n",
    "gdf_strong_utk = pd.concat([gdf_preflip_strong_utk, gdf_postflip_strong_utk])"
   ]
  },
  {
   "cell_type": "code",
   "execution_count": null,
   "id": "1c422779-6305-4852-ac90-c5eb0748d898",
   "metadata": {
    "tags": []
   },
   "outputs": [],
   "source": [
    "# Generate weights for KDE plots\n",
    "wm = np.ones_like(np.array(gdf_mar2022['n_fit_photons']))/float(len(np.array(gdf_mar2022['n_fit_photons'])))\n",
    "wo = np.ones_like(np.array(gdf_oct['n_fit_photons']))/float(len(np.array(gdf_oct['n_fit_photons'])))\n",
    "ws = np.ones_like(np.array(gdf_so['n_fit_photons']))/float(len(np.array(gdf_so['n_fit_photons'])))\n",
    "\n",
    "fig, ax = plt.subplots(1,3, sharex=True, figsize=(12, 6))\n",
    "## Site comparison KDE\n",
    "#-----------------------#\n",
    "sns.kdeplot(data=gdf_strong, x='n_fit_photons', ax=ax[0], color='#2ca02c',\n",
    "            alpha=0.5, label='FLCF', fill=True)\n",
    "sns.kdeplot(data=gdf_strong_utk, x='n_fit_photons', ax=ax[0], color='#ff7f0e',\n",
    "            alpha=0.5, label='UKT', fill=True)\n",
    "ax[0].set_xlim([0, 250])\n",
    "ax[0].set_xlabel(' ', fontsize=16)\n",
    "ax[0].set_ylabel('Density', fontsize=16)\n",
    "ax[0].set_title('All tracks', fontsize=14)\n",
    "ax[0].tick_params(axis='both', which='major', labelsize=12)\n",
    "ax[0].yaxis.grid(True)\n",
    "ax[0].legend()\n",
    "ax[0].annotate(\"(a)\", (10, 0.0093), fontsize=16, bbox=dict(facecolor='white', alpha=0.8))\n",
    "\n",
    "## UKT KDE\n",
    "#----------------#\n",
    "sns.kdeplot(data=gdf_mar2022_utk, x='n_fit_photons', ax=ax[1], color='#2ca02c',\n",
    "             alpha=0.5, zorder=1, label='Jan-Apr 2023', fill=True)\n",
    "sns.kdeplot(data=gdf_oct_utk, x='n_fit_photons', ax=ax[1], color='#ff7f0e',\n",
    "             alpha=0.5, zorder=2, label='Sep-Dec 2022', fill=True)\n",
    "sns.kdeplot(data=gdf_so_utk, x='n_fit_photons', ax=ax[1], color='#1f77b4',\n",
    "             alpha=0.5, zorder=3, label='May-Aug 2022', fill=True)\n",
    "fig.add_subplot(111, frameon=False)\n",
    "plt.tick_params(labelcolor='none', which='both', top=False, bottom=False, left=False, right=False)\n",
    "plt.xlabel('Number of signal photons, per segment', fontsize=16)\n",
    "ax[1].set_xlim([0, 250])\n",
    "ax[1].set_xlabel(' ', fontsize=16)\n",
    "ax[1].set_ylabel(' ', fontsize=16)\n",
    "ax[1].set_title('Upper Kuparuk/Toolik', fontsize=14)\n",
    "ax[1].tick_params(axis='both', which='major', labelsize=12)\n",
    "ax[1].yaxis.grid(True)\n",
    "ax[1].legend()\n",
    "ax[1].annotate(\"(b)\", (10, 0.022), fontsize=16, bbox=dict(facecolor='white', alpha=0.8))\n",
    "\n",
    "## FLCF KDE\n",
    "#----------------#\n",
    "sns.kdeplot(data=gdf_mar2022, x='n_fit_photons', ax=ax[2], color='#2ca02c',\n",
    "             alpha=0.5, zorder=1, label='Jan-Apr 2023', fill=True)\n",
    "sns.kdeplot(data=gdf_oct, x='n_fit_photons', ax=ax[2], color='#ff7f0e',\n",
    "             alpha=0.5, zorder=2, label='Sep-Dec 2022', fill=True)\n",
    "sns.kdeplot(data=gdf_so, x='n_fit_photons', ax=ax[2], color='#1f77b4',\n",
    "             alpha=0.5, zorder=3, label='May-Aug 2022', fill=True)\n",
    "fig.add_subplot(111, frameon=False)\n",
    "plt.tick_params(labelcolor='none', which='both', top=False, bottom=False, left=False, right=False)\n",
    "plt.xlabel('Number of signal photons, per segment', fontsize=16)\n",
    "ax[2].set_xlim([0, 250])\n",
    "ax[2].set_xlabel(' ', fontsize=16)\n",
    "ax[2].set_ylabel(' ', fontsize=16)\n",
    "ax[2].set_title(\"Farmer's Loop/Creamer's Field\", fontsize=14)\n",
    "ax[2].tick_params(axis='both', which='major', labelsize=12)\n",
    "ax[2].yaxis.grid(True)\n",
    "ax[2].legend()\n",
    "ax[2].annotate(\"(c)\", (10, 0.034), fontsize=16, bbox=dict(facecolor='white', alpha=0.8))\n",
    "handles, labels = ax[1].get_legend_handles_labels()\n",
    "plt.tight_layout()"
   ]
  },
  {
   "cell_type": "markdown",
   "id": "eeb3c18a-f2ff-474d-87b1-d8fa9012f8e5",
   "metadata": {
    "user_expressions": []
   },
   "source": [
    "## ATL06-SR Resolution Box Plots\n",
    "Generates Figure 8 from Fair et al., (in prep). Creates two box plots that relate IS2-UAF depth residuals to ATL06-SR resolution over FLCF (a) and UKT (b)."
   ]
  },
  {
   "cell_type": "code",
   "execution_count": null,
   "id": "c3db9f78-c82a-4eb4-b33c-02e48472993c",
   "metadata": {},
   "outputs": [],
   "source": [
    "# Initialize DataFrames at 10 m resolution\n",
    "dfsr_44105 = pd.read_csv('/home/jovyan/icesat2-snowex/snow-depth-data/cffl/atl06sr_snowdepth_rgt1356_cffl_2022321_44105.csv')\n",
    "dfsr_utk_44105 = pd.read_csv('/home/jovyan/icesat2-snowex/snow-depth-data/utk/atl06sr_snowdepth_rgt152_utk_2023331_44105.csv')"
   ]
  },
  {
   "cell_type": "code",
   "execution_count": null,
   "id": "554340c7-1d01-40b4-95c7-3f5c95a80754",
   "metadata": {},
   "outputs": [],
   "source": [
    "# Create Xarrays to coarsen the data to 20m/40m/100m (FLCF)\n",
    "interp_coarse = dfsr_44105[dfsr_44105['beam']==50][['lat', 'lon', 'lidar_snow_depth', 'is2_snow_depth', 'snow_depth_residual']]\n",
    "interp_coarse_10m = interp_coarse.set_index(['lat', 'lon']).to_xarray()\n",
    "interp_coarse_20m = interp_coarse.set_index(['lat', 'lon']).to_xarray().coarsen(lat=2, lon=2, boundary='trim').median()\n",
    "interp_coarse_40m = interp_coarse.set_index(['lat', 'lon']).to_xarray().coarsen(lat=4, lon=4, boundary='trim').median()\n",
    "interp_coarse_100m = interp_coarse.set_index(['lat', 'lon']).to_xarray().coarsen(lat=10, lon=10, boundary='trim').median()\n",
    "\n",
    "# Do the same for UKT\n",
    "interp_coarse_utk = dfsr_utk_44105[dfsr_utk_44105['beam']==50][['lat', 'lon', 'lidar_snow_depth', 'is2_snow_depth', 'snow_depth_residual']]\n",
    "interp_coarse_utk_10m = interp_coarse_utk.set_index(['lat', 'lon']).to_xarray()\n",
    "interp_coarse_utk_20m = interp_coarse_utk.set_index(['lat', 'lon']).to_xarray().coarsen(lat=2, lon=2, boundary='trim').median()\n",
    "interp_coarse_utk_40m = interp_coarse_utk.set_index(['lat', 'lon']).to_xarray().coarsen(lat=4, lon=4, boundary='trim').median()\n",
    "interp_coarse_utk_100m = interp_coarse_utk.set_index(['lat', 'lon']).to_xarray().coarsen(lat=10, lon=10, boundary='trim').median()"
   ]
  },
  {
   "cell_type": "code",
   "execution_count": null,
   "id": "8c22dd1b-f110-41af-85e3-a84446563c44",
   "metadata": {},
   "outputs": [],
   "source": [
    "# Convert resolution-separated data into DataFrames, and add resolution as a label (FLCF)\n",
    "interp_coarse_10m_pd = interp_coarse_10m.to_dataframe().dropna()\n",
    "interp_coarse_10m_pd['filter'] = '10 m'\n",
    "interp_coarse_20m_pd = interp_coarse_20m.to_dataframe().dropna()\n",
    "interp_coarse_20m_pd['filter'] = '20 m'\n",
    "interp_coarse_40m_pd = interp_coarse_40m.to_dataframe().dropna()\n",
    "interp_coarse_40m_pd['filter'] = '40 m'\n",
    "interp_coarse_100m_pd = interp_coarse_100m.to_dataframe().dropna()\n",
    "interp_coarse_100m_pd['filter'] = '100 m'\n",
    "\n",
    "# Do the same for UKT\n",
    "interp_coarse_utk_10m_pd = interp_coarse_utk_10m.to_dataframe().dropna()\n",
    "interp_coarse_utk_10m_pd['filter'] = '10 m'\n",
    "interp_coarse_utk_20m_pd = interp_coarse_utk_20m.to_dataframe().dropna()\n",
    "interp_coarse_utk_20m_pd['filter'] = '20 m'\n",
    "interp_coarse_utk_40m_pd = interp_coarse_utk_40m.to_dataframe().dropna()\n",
    "interp_coarse_utk_40m_pd['filter'] = '40 m'\n",
    "interp_coarse_utk_100m_pd = interp_coarse_utk_100m.to_dataframe().dropna()\n",
    "interp_coarse_utk_100m_pd['filter'] = '100 m'"
   ]
  },
  {
   "cell_type": "code",
   "execution_count": null,
   "id": "2b279141-b821-4746-b480-b6d2d0867c85",
   "metadata": {},
   "outputs": [],
   "source": [
    "# Concatenate DataFrames\n",
    "interp_coarse_allres = pd.concat([interp_coarse_10m_pd, interp_coarse_20m_pd, interp_coarse_40m_pd, interp_coarse_100m_pd])\n",
    "interp_coarse_utk_allres = pd.concat([interp_coarse_utk_10m_pd, interp_coarse_utk_20m_pd, interp_coarse_utk_40m_pd, interp_coarse_utk_100m_pd])\n",
    "\n",
    "# Melt DataFrames to sort them by resolution (\"filter\")\n",
    "interp_coarse_allres_melt = interp_coarse_allres.reset_index().melt(id_vars=['filter'], value_vars=['snow_depth_residual'])\n",
    "interp_coarse_utk_allres_melt = interp_coarse_utk_allres.reset_index().melt(id_vars=['filter'], value_vars=['snow_depth_residual'])"
   ]
  },
  {
   "cell_type": "code",
   "execution_count": null,
   "id": "64ad845c-12b5-4f88-9e43-734667780aa3",
   "metadata": {
    "tags": []
   },
   "outputs": [],
   "source": [
    "fig, ax = plt.subplots(1, 2, figsize=(14,8), sharex=True)\n",
    "\n",
    "## FLCF Boxplot\n",
    "#----------------#\n",
    "sns.boxplot(ax=ax[0], data=interp_coarse_allres_melt, x='filter', y='value')\n",
    "ax[0].set_ylim([-1, 1])\n",
    "ax[0].set_xlabel(' ')\n",
    "ax[0].set_ylabel('IS2-UAF depth residual [m]', fontsize=16)\n",
    "ax[0].set_title(\"Creamer's Field\", fontsize=14)\n",
    "ax[0].tick_params(axis='both', which='major', labelsize=14)\n",
    "ax[0].grid(True)\n",
    "\n",
    "## UKT Boxplot\n",
    "#----------------#\n",
    "sns.boxplot(ax=ax[1], data=interp_coarse_utk_allres_melt, x='filter', y='value')\n",
    "ax[1].set_ylim([-1, 1])\n",
    "ax[1].set_xlabel(' ')\n",
    "ax[1].set_ylabel(' ')\n",
    "ax[1].set_title(\"Upper Kuparuk/Toolik\", fontsize=14)\n",
    "ax[1].tick_params(axis='both', which='major', labelsize=14)\n",
    "ax[1].grid(True)\n",
    "\n",
    "fig.supxlabel('SlideRule resolution [m]', fontsize=16)\n",
    "t1 = ax[0].text(-0.4, -0.95, '(a)', fontsize=24)\n",
    "t1.set_bbox(dict(facecolor='white', alpha=0.75, edgecolor='white'))\n",
    "t2 = ax[1].text(-0.4, -0.95, '(b)', fontsize=24)\n",
    "t2.set_bbox(dict(facecolor='white', alpha=0.75, edgecolor='white'))\n",
    "plt.tight_layout()"
   ]
  },
  {
   "cell_type": "markdown",
   "id": "6de4fbf1-1a40-41e0-899e-5e65ae3aa4f4",
   "metadata": {
    "user_expressions": []
   },
   "source": [
    "## Photon number plots\n",
    "Same as the forest cover figure, but instead using the number of photons used in each SlideRule segment."
   ]
  },
  {
   "cell_type": "code",
   "execution_count": null,
   "id": "3084cbed-fe9a-4533-9bdf-c84c0d6743a4",
   "metadata": {},
   "outputs": [],
   "source": [
    "# Round photon numbers to nearest multiple of 20\n",
    "dfsr['n_fit_photons'] = round(dfsr['n_fit_photons']/20)*20\n",
    "\n",
    "# Generate weights for histogram plot\n",
    "weights = np.ones_like(np.array(dfsr[dfsr['beam']==50]['n_fit_photons']))/float(len(np.array(dfsr[dfsr['beam']==50]['n_fit_photons'])))\n",
    "\n",
    "# Create new dataframe that groups residuals by photon count\n",
    "new_df = dfsr[dfsr['beam']==50].reset_index().melt(id_vars=['n_fit_photons'], value_vars=['snow_depth_residual'])"
   ]
  },
  {
   "cell_type": "code",
   "execution_count": null,
   "id": "4fb3bb29-9a27-4487-b6a6-d7f0b95eec1e",
   "metadata": {
    "tags": []
   },
   "outputs": [],
   "source": [
    "fig, ax = plt.subplots(1, 2, figsize=(12,6))\n",
    "# Histogram plot\n",
    "sns.histplot(data=dfsr[dfsr['beam']==50], x='n_fit_photons', ax=ax[0],\n",
    "             bins=[20, 40, 60, 80, 100, 120, 140, 160, 180, 200],\n",
    "             weights=weights)\n",
    "#ax[0].set_xlim([0, 80])\n",
    "ax[0].set_ylim([0, 0.35])\n",
    "ax[0].set_xlabel('Number of fitted photons', fontsize=14)\n",
    "ax[0].set_ylabel('Frequency [%]', fontsize=14)\n",
    "ax[0].set_xticks([20, 40, 60, 80, 100, 120, 140, 160, 180, 200])\n",
    "ax[0].yaxis.grid(True)\n",
    "\n",
    "# Boxplot\n",
    "sns.boxplot(data=new_df, x='n_fit_photons', y='value', ax=ax[1], color='C0')\n",
    "ax[1].set_title(' ')\n",
    "ax[1].set_ylim([-0.7, 0.7])\n",
    "ax[1].set_xlabel('Number of fitted photons', fontsize=14)\n",
    "ax[1].set_ylabel('IS2-UAF depth residual [m]', fontsize=14)\n",
    "ax[1].grid(True)\n",
    "ax[1].set_xticks([0, 1, 2, 3, 4, 5, 6, 7, 8, 9])\n",
    "ax[1].set_xticklabels([20.0, 40.0, 60.0, 80.0, 100.0, 120.0, 140.0, 160.0, 180.0, 200.0])\n",
    "#ax[1].set_ylim([-1, 0.5])\n",
    "ax[1].set_xlim([-0.5, 10.5])\n",
    "fig.tight_layout()\n",
    "#plt.suptitle(\"Creamer's Field\", fontsize=14)\n",
    "#plt.savefig('/home/jovyan/icesat2-snowex/figures/bcef/is2_uaf_number-photon-plots_rgt472_bcef_2022423.png', dpi=500)"
   ]
  },
  {
   "cell_type": "markdown",
   "id": "747f47a3-1e6e-4132-aea3-e653b572a3e7",
   "metadata": {
    "user_expressions": []
   },
   "source": [
    "## SlideRule segment plots\n",
    "Figures using SlideRule data of differing resolution, segment length, etc. Currently a work in progress."
   ]
  },
  {
   "cell_type": "code",
   "execution_count": null,
   "id": "bc06a496-9e95-44e6-ba6d-3eb355a361b2",
   "metadata": {
    "tags": []
   },
   "outputs": [],
   "source": [
    "dfsr_142010 = pd.read_csv('/home/jovyan/icesat2-snowex/snow-depth-data/acp/atl06sr_snowdepth_rgt1097_acp_202234_142010.csv')\n",
    "dfsr_4410050 = pd.read_csv('/home/jovyan/icesat2-snowex/snow-depth-data/acp/atl06sr_snowdepth_rgt1097_acp_202234_4410050.csv')\n",
    "dfsr_44105 = pd.read_csv('/home/jovyan/icesat2-snowex/snow-depth-data/acp/atl06sr_snowdepth_rgt1097_acp_202234_44105.csv')\n",
    "dfsr_444020 = pd.read_csv('/home/jovyan/icesat2-snowex/snow-depth-data/acp/atl06sr_snowdepth_rgt1097_acp_202234_444020.csv')\n",
    "\n",
    "dfsr_142010['is2_snow_off'] = dfsr_142010['is2_height'] - dfsr_142010['lidar_snow_depth']\n",
    "dfsr_4410050['is2_snow_off'] = dfsr_4410050['is2_height'] - dfsr_4410050['lidar_snow_depth']\n",
    "dfsr_44105['is2_snow_off'] = dfsr_44105['is2_height'] - dfsr_44105['lidar_snow_depth']\n",
    "dfsr_444020['is2_snow_off'] = dfsr_444020['is2_height'] - dfsr_444020['lidar_snow_depth']"
   ]
  }
 ],
 "metadata": {
  "kernelspec": {
   "display_name": "base",
   "language": "python",
   "name": "base"
  },
  "language_info": {
   "codemirror_mode": {
    "name": "ipython",
    "version": 3
   },
   "file_extension": ".py",
   "mimetype": "text/x-python",
   "name": "python",
   "nbconvert_exporter": "python",
   "pygments_lexer": "ipython3",
   "version": "3.10.12"
  }
 },
 "nbformat": 4,
 "nbformat_minor": 5
}
