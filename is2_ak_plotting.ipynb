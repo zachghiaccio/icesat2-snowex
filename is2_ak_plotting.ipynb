{
 "cells": [
  {
   "cell_type": "markdown",
   "id": "66def340-85c1-4974-ad58-2ce6fa581fa6",
   "metadata": {
    "user_expressions": []
   },
   "source": [
    "# Alaska Plotting Notebook\n",
    "This notebook is a follow-on to the main Alaska notebook, taking the data generated and saved there to generate plots. Plots include surface height comparisons, snow depth comparisons, a field site map, and land cover boxplots.\n",
    "\n",
    "Note that sometimes (read: frequently) Holoviews and Geoviews will not render the data in the notebook. However, saving the figure as an HTML and loading the file will render the plot correctly. It is not clear why this problem occurs."
   ]
  },
  {
   "cell_type": "code",
   "execution_count": null,
   "id": "7aea5b5a-0bb0-46e8-ab80-b5dabab4fa1a",
   "metadata": {
    "tags": []
   },
   "outputs": [],
   "source": [
    "from bokeh.models import HoverTool\n",
    "from cartopy import crs\n",
    "import geopandas as gpd\n",
    "import geoviews as gv\n",
    "import geoviews.feature as gf\n",
    "from geoviews import dim, opts\n",
    "import geoviews.tile_sources as gts\n",
    "gv.extension('bokeh')\n",
    "import holoviews as hv\n",
    "from holoviews import opts, Cycle\n",
    "import hvplot.pandas\n",
    "import matplotlib.pyplot as plt\n",
    "import numpy as np\n",
    "import pandas as pd\n",
    "from shapely.geometry import Polygon, Point\n",
    "import seaborn as sns\n",
    "import scipy as sp\n",
    "from scipy.stats import median_abs_deviation as mad\n",
    "import plotly.express as px\n",
    "from plotly.subplots import make_subplots\n",
    "import plotly.graph_objects as go\n",
    "from matplotlib.ticker import StrMethodFormatter"
   ]
  },
  {
   "cell_type": "code",
   "execution_count": null,
   "id": "3fc62413-13fe-4036-877b-291397ecede5",
   "metadata": {},
   "outputs": [],
   "source": [
    "# Read in the data\n",
    "dfsr = pd.read_csv('/home/jovyan/icesat2-snowex/snow-depth-data/cffl/atl06sr_snowdepth_rgt1356_cffl_2022321_442010.csv')\n",
    "df06 = pd.read_csv('/home/jovyan/icesat2-snowex/snow-depth-data/cffl/atl06_snowdepth_rgt1356_cffl_2022321.csv')\n",
    "df08 = pd.read_csv('/home/jovyan/icesat2-snowex/snow-depth-data/cffl/atl08_snowdepth_rgt1356_cffl_2022321.csv')\n",
    "\n",
    "# Remove faulty values\n",
    "dfsr['lidar_snow_depth'][dfsr['lidar_snow_depth']>2] = np.nan\n",
    "df06['lidar_snow_depth'][df06['lidar_snow_depth']>2] = np.nan\n",
    "dfsr['lidar_snow_depth'][dfsr['lidar_snow_depth']>2] = np.nan\n",
    "df06['lidar_snow_depth'][df06['lidar_snow_depth']>2] = np.nan\n",
    "\n",
    "dfsr['snow_depth_residual'][dfsr['snow_depth_residual'].abs()>2] = np.nan\n",
    "df06['snow_depth_residual'][df06['snow_depth_residual'].abs()>2] = np.nan"
   ]
  },
  {
   "cell_type": "markdown",
   "id": "7bcd8e2f-d684-4bbd-bc23-5c6e8d02301a",
   "metadata": {
    "user_expressions": []
   },
   "source": [
    "## Along-track snow depths\n",
    "\n",
    "Along-track line plot of snow depths derived by ICESat-2 and UAF. Only plots one IS-2 beam at a time."
   ]
  },
  {
   "cell_type": "code",
   "execution_count": null,
   "id": "b9fc9ef2-a3dd-495e-8bd1-50ec3f196b1f",
   "metadata": {
    "tags": []
   },
   "outputs": [],
   "source": [
    "fig, ax = plt.subplots(1,3, figsize=(12, 3))\n",
    "#ATL06\n",
    "ax[0].plot(df06['lat'][df06['beam']==5], df06['is2_snow_depth'][df06['beam']==5], label='ICESat-2')\n",
    "ax[0].plot(df06['lat'][df06['beam']==5], df06['lidar_snow_depth'][df06['beam']==5], label='UAF')\n",
    "ax[0].set_title('ATL06')\n",
    "ax[0].set_ylabel('Snow depth [m]', fontsize=14)\n",
    "ax[0].set_xlim([64.86, 64.888])\n",
    "ax[0].set_ylim([0, 1.75])\n",
    "ax[0].legend()\n",
    "ax[0].yaxis.set_major_formatter('{x:9<3.1f}')\n",
    "ax[0].set_xticks([64.86, 64.865, 64.87, 64.875, 64.88, 64.885])\n",
    "ax[0].grid(True)\n",
    "\n",
    "# ATL08\n",
    "ax[1].plot(df08['lat'][df08['beam']==5], df08['is2_snow_depth'][df08['beam']==5], label='ICESat-2')\n",
    "ax[1].plot(df08['lat'][df08['beam']==5], df08['lidar_snow_depth'][df08['beam']==5], label='UAF')\n",
    "ax[1].set_title('ATL08')\n",
    "ax[1].set_xlabel('Latitude', fontsize=14)\n",
    "ax[1].set_xlim([64.86, 64.888])\n",
    "ax[1].set_ylim([0, 1.75])\n",
    "ax[1].yaxis.set_major_formatter('{x:9<3.1f}')\n",
    "ax[1].set_xticks([64.86, 64.865, 64.87, 64.875, 64.88, 64.885])\n",
    "ax[1].grid(True)\n",
    "\n",
    "# SlideRule\n",
    "ax[2].plot(dfsr['lat'][(dfsr['beam']==50)],\n",
    "           dfsr['is2_snow_depth'][(dfsr['beam']==50)],\n",
    "           label='ICESat-2')\n",
    "ax[2].plot(dfsr['lat'][(dfsr['beam']==50)],\n",
    "           dfsr['lidar_snow_depth'][(dfsr['beam']==50)],\n",
    "           label='UAF')\n",
    "ax[2].set_title('SlideRule')\n",
    "ax[2].set_xlim([64.86, 64.888])\n",
    "ax[2].set_ylim([0, 1.75])\n",
    "ax[2].yaxis.set_major_formatter('{x:9<3.1f}')\n",
    "ax[2].set_xticks([64.86, 64.865, 64.87, 64.875, 64.88, 64.885])\n",
    "fig.tight_layout()\n",
    "ax[2].grid(True)\n",
    "\n",
    "#plt.savefig('/home/jovyan/icesat2-snowex/figures/cffl/is2_uaf_line-plots_rgt1356_cffl_2022321.png', dpi=500)"
   ]
  },
  {
   "cell_type": "markdown",
   "id": "49545ffd-4422-4516-b90d-b4d3b1c57979",
   "metadata": {
    "user_expressions": []
   },
   "source": [
    "## Snow depth scatter plot\n",
    "Scatter plots of UAF vs. ICESat-2 snow depths. Seaborn is needed to construct the plots."
   ]
  },
  {
   "cell_type": "code",
   "execution_count": null,
   "id": "00da176b-b304-4ae1-bb2d-3f8ec60d3c9c",
   "metadata": {},
   "outputs": [],
   "source": [
    "# Derive r-squared values for each ICESat-2 product\n",
    "df06_r2 = df06[df06['beam']==5].dropna()\n",
    "linreg06 = sp.stats.linregress(df06_r2['lidar_snow_depth'], df06_r2['is2_snow_depth'])\n",
    "df08_r2 = df08[df08['beam']==5].dropna()\n",
    "linreg08 = sp.stats.linregress(df08_r2['lidar_snow_depth'], df08_r2['is2_snow_depth'])\n",
    "dfsr_r2 = dfsr[(dfsr['beam']==50)].dropna()\n",
    "linregsr = sp.stats.linregress(dfsr_r2['lidar_snow_depth'], dfsr_r2['is2_snow_depth'])"
   ]
  },
  {
   "cell_type": "code",
   "execution_count": null,
   "id": "598a04a1-5e66-4ede-8eca-3ec9a0df9e3f",
   "metadata": {
    "tags": []
   },
   "outputs": [],
   "source": [
    "fig, ax = plt.subplots(1,3, figsize=(12,3))\n",
    "# ATL06\n",
    "sns.scatterplot(data=df06[df06['beam']==5], x='lidar_snow_depth', y='is2_snow_depth', ax=ax[0])\n",
    "ax[0].plot(np.linspace(0, 1.5, 25), np.linspace(0, 1.5, 25), color='black', linestyle='--', alpha=0.75)\n",
    "ax[0].set_xlabel(' ')\n",
    "ax[0].set_ylabel('ICESat-2 snow depth [m]', fontsize=14)\n",
    "ax[0].set_xlim([0, 1.5])\n",
    "ax[0].set_ylim([0, 1.5])\n",
    "ax[0].xaxis.set_major_formatter('{x:9<3.1f}')\n",
    "ax[0].yaxis.set_major_formatter('{x:9<3.1f}')\n",
    "ax[0].annotate(\"r$^2$ = {:.3f}\".format(linreg06.rvalue), (0.18, 0.9))\n",
    "ax[0].grid(True, alpha=0.3)\n",
    "\n",
    "# ATL08\n",
    "sns.scatterplot(data=df08[df08['beam']==5], x='lidar_snow_depth', y='is2_snow_depth', ax=ax[1])\n",
    "ax[1].plot(np.linspace(0, 1.5, 25), np.linspace(0, 1.5, 25), color='black', linestyle='--', alpha=0.75)\n",
    "ax[1].set_xlabel('UAF snow depth [m]', fontsize=14)\n",
    "ax[1].set_ylabel(' ')\n",
    "ax[1].set_xlim([0, 1.5])\n",
    "ax[1].set_ylim([0, 1.5])\n",
    "ax[1].xaxis.set_major_formatter('{x:9<3.1f}')\n",
    "ax[1].yaxis.set_major_formatter('{x:9<3.1f}')\n",
    "ax[1].annotate(\"r$^2$ = {:.3f}\".format(linreg08.rvalue), (0.18, 0.9))\n",
    "ax[1].grid(True, alpha=0.3)\n",
    "\n",
    "# SlideRule\n",
    "sns.scatterplot(data=dfsr[(dfsr['beam']==50)], x='lidar_snow_depth', y='is2_snow_depth', ax=ax[2])\n",
    "ax[2].plot(np.linspace(0, 1.5, 25), np.linspace(0, 1.5, 25), color='black', linestyle='--', alpha=0.75)\n",
    "ax[2].set_xlabel(' ')\n",
    "ax[2].set_ylabel(' ')\n",
    "ax[2].set_xlim([0, 1.5])\n",
    "ax[2].set_ylim([0, 1.5])\n",
    "ax[2].xaxis.set_major_formatter('{x:9<3.1f}')\n",
    "ax[2].yaxis.set_major_formatter('{x:9<3.1f}')\n",
    "ax[2].annotate(\"r$^2$ = {:.3f}\".format(linregsr.rvalue), (0.18, 0.9))\n",
    "ax[2].grid(True, alpha=0.3)\n",
    "plt.tight_layout()\n",
    "\n",
    "#plt.savefig('/home/jovyan/icesat2-snowex/figures/cffl/is2_uaf_scatter-plots_rgt1356_cffl_2022321.png', dpi=500)"
   ]
  },
  {
   "cell_type": "markdown",
   "id": "fa54b842-6da7-4b50-9206-6be1a578b625",
   "metadata": {
    "user_expressions": []
   },
   "source": [
    "## Snow depth residual histograms\n",
    "Plots normalized histograms of IS2-UAF depth residuals. The median bias and normalized median absolute deviation (NMAD) are also given."
   ]
  },
  {
   "cell_type": "code",
   "execution_count": null,
   "id": "384273c8-f1c0-40c9-a381-c6748264d0a8",
   "metadata": {},
   "outputs": [],
   "source": [
    "# Calculate weights for each histogram, to create normalized counts\n",
    "w06 = np.ones_like(df06['snow_depth_residual'][df06['beam']==5])/float(len(df06['snow_depth_residual'][df06['beam']==5]))\n",
    "w08 = np.ones_like(df08['snow_depth_residual'][df08['beam']==5])/float(len(df08['snow_depth_residual'][df08['beam']==5]))\n",
    "wsr = np.ones_like(dfsr['snow_depth_residual'][(dfsr['beam']==50)])/float(len(dfsr['snow_depth_residual'][(dfsr['beam']==50)]))\n",
    "\n",
    "# Calculate NMAD for each product\n",
    "nmad06 = 1.4826*mad(df06['snow_depth_residual'][df06['beam']==5].dropna())\n",
    "nmad08 = 1.4826*mad(df08['snow_depth_residual'][df08['beam']==5].dropna())\n",
    "nmadsr = 1.4826*mad(dfsr['snow_depth_residual'][(dfsr['beam']==50)].dropna())"
   ]
  },
  {
   "cell_type": "code",
   "execution_count": null,
   "id": "1c422779-6305-4852-ac90-c5eb0748d898",
   "metadata": {
    "tags": []
   },
   "outputs": [],
   "source": [
    "fig, ax = plt.subplots(1,3, figsize=(12,3))\n",
    "# ATL06\n",
    "sns.histplot(data=df06[df06['beam']==5], x='snow_depth_residual', ax=ax[0],\n",
    "             bins=25,\n",
    "             weights=w06)\n",
    "ax[0].set_xlabel(' ')\n",
    "ax[0].set_ylabel('Frequency [%]', fontsize=14)\n",
    "ax[0].xaxis.set_major_formatter('{x:9<3.1f}')\n",
    "ax[0].set_xlim([-1, 1])\n",
    "ax[0].set_ylim([0, 0.25])\n",
    "ax[0].yaxis.grid(True)\n",
    "ax[0].annotate(\"Bias = {:.2f} cm\".format(100*df06['snow_depth_residual'][df06['beam']==5].median()), (-0.85, 0.23))\n",
    "ax[0].annotate(\"NMAD = {:.2f} cm\".format(100*nmad06), (-0.85, 0.21))\n",
    "\n",
    "# ATL08\n",
    "sns.histplot(data=df08[df08['beam']==5], x='snow_depth_residual', ax=ax[1],\n",
    "             bins=25,\n",
    "             weights=w08)\n",
    "ax[1].set_xlabel('IS2-UAF depth residual [m]', fontsize=14)\n",
    "ax[1].set_ylabel(' ')\n",
    "ax[1].xaxis.set_major_formatter('{x:9<3.1f}')\n",
    "ax[1].set_xlim([-1, 1])\n",
    "ax[1].set_ylim([0, 0.25])\n",
    "ax[1].yaxis.grid(True)\n",
    "ax[1].annotate(\"Bias = {:.2f} cm\".format(100*df08['snow_depth_residual'][df08['beam']==5].median()), (-0.85, 0.23))\n",
    "ax[1].annotate(\"NMAD = {:.2f} cm\".format(100*nmad08), (-0.85, 0.21))\n",
    "\n",
    "# SlideRule\n",
    "sns.histplot(data=dfsr[(dfsr['beam']==50)], x='snow_depth_residual', ax=ax[2],\n",
    "             bins=25,\n",
    "             weights=wsr)\n",
    "ax[2].xaxis.set_major_formatter('{x:9<3.1f}')\n",
    "ax[2].set_xlabel(' ')\n",
    "ax[2].set_ylabel(' ')\n",
    "ax[2].set_xlim([-1, 1])\n",
    "ax[2].set_ylim([0, 0.25])\n",
    "ax[2].yaxis.grid(True)\n",
    "ax[2].annotate(\"Bias = {:.2f} cm\".format(100*dfsr['snow_depth_residual'][(dfsr['beam']==50)].median()), (-0.85, 0.23))\n",
    "ax[2].annotate(\"NMAD = {:.2f} cm\".format(100*nmadsr), (-0.85, 0.21))\n",
    "plt.tight_layout()\n",
    "\n",
    "#plt.savefig('/home/jovyan/icesat2-snowex/figures/cffl/is2_uaf_histogram-plots_rgt1356_cffl_2022321.png', dpi=500)"
   ]
  },
  {
   "cell_type": "markdown",
   "id": "eeb3c18a-f2ff-474d-87b1-d8fa9012f8e5",
   "metadata": {
    "user_expressions": []
   },
   "source": [
    "## Forest cover plots\n",
    "Makes two plots related to forest cover: (1) a histogram of forest covers, rounded to the nearest multiple of 10; (2) boxplot of depth residuals, distributed by forest cover."
   ]
  },
  {
   "cell_type": "code",
   "execution_count": null,
   "id": "2b279141-b821-4746-b480-b6d2d0867c85",
   "metadata": {},
   "outputs": [],
   "source": [
    "# Round forest cover percentages to nearest multiple of 10\n",
    "dfsr['forest_cover'] = round(dfsr['forest_cover']/10)*10\n",
    "\n",
    "# Generate weights for forest cover histogram\n",
    "weights = np.ones_like(np.array(dfsr[dfsr['beam']==50]['forest_cover']))/float(len(np.array(dfsr[dfsr['beam']==50]['forest_cover'])))\n",
    "\n",
    "# Create a (temporary) new dataframe that groups depth residuals by forest cover\n",
    "new_df = dfsr[dfsr['beam']==50].reset_index().melt(id_vars=['forest_cover'], value_vars=['snow_depth_residual'])"
   ]
  },
  {
   "cell_type": "code",
   "execution_count": null,
   "id": "64ad845c-12b5-4f88-9e43-734667780aa3",
   "metadata": {
    "tags": []
   },
   "outputs": [],
   "source": [
    "fig, ax = plt.subplots(1, 2, figsize=(12,6))\n",
    "# Histogram plot\n",
    "sns.histplot(data=dfsr[dfsr['beam']==50], x='forest_cover', ax=ax[0],\n",
    "             bins = [0, 10, 20, 30, 40, 50, 60, 70, 80, 90, 100],\n",
    "             weights=weights)\n",
    "ax[0].set_xlim([0, 80])\n",
    "ax[0].set_xlabel('Forest cover [%]', fontsize=14)\n",
    "ax[0].set_ylabel('Frequency [%]', fontsize=14)\n",
    "ax[0].set_xticks([0, 10, 20, 30, 40, 50, 60, 70, 80])\n",
    "ax[0].yaxis.grid(True)\n",
    "\n",
    "# Boxplot\n",
    "sns.boxplot(data=new_df, x='forest_cover', y='value', ax=ax[1], color='C0')\n",
    "ax[1].set_title(' ')\n",
    "ax[1].set_xlabel('Forest cover [%]', fontsize=14)\n",
    "ax[1].set_ylabel('IS2-UAF depth residual [m]', fontsize=14)\n",
    "ax[1].grid(True)\n",
    "#ax[1].set_xticklabels([0, 10, 20, 30, 40, 50, 60, 70])\n",
    "#ax[1].set_ylim([-1, 0.5])\n",
    "#ax[1].set_xlim([0.5, 9.5])\n",
    "fig.tight_layout()\n",
    "plt.suptitle(\"Creamer's Field\", fontsize=14)\n",
    "#plt.savefig('/home/jovyan/icesat2-snowex/figures/cffl/is2_uaf_forest-cover-plots_rgt1356_cffl_2022321.png', dpi=500)"
   ]
  },
  {
   "cell_type": "markdown",
   "id": "6de4fbf1-1a40-41e0-899e-5e65ae3aa4f4",
   "metadata": {
    "user_expressions": []
   },
   "source": [
    "## Photon number plots\n",
    "Same as the forest cover figure, but instead using the number of photons used in each SlideRule segment."
   ]
  },
  {
   "cell_type": "code",
   "execution_count": null,
   "id": "3084cbed-fe9a-4533-9bdf-c84c0d6743a4",
   "metadata": {},
   "outputs": [],
   "source": [
    "# Round photon numbers to nearest multiple of 20\n",
    "dfsr['n_fit_photons'] = round(dfsr['n_fit_photons']/20)*20\n",
    "\n",
    "# Generate weights for histogram plot\n",
    "weights = np.ones_like(np.array(dfsr[dfsr['beam']==50]['n_fit_photons']))/float(len(np.array(dfsr[dfsr['beam']==50]['n_fit_photons'])))\n",
    "\n",
    "# Create new dataframe that groups residuals by photon count\n",
    "new_df = dfsr[dfsr['beam']==50].reset_index().melt(id_vars=['n_fit_photons'], value_vars=['snow_depth_residual'])"
   ]
  },
  {
   "cell_type": "code",
   "execution_count": null,
   "id": "4fb3bb29-9a27-4487-b6a6-d7f0b95eec1e",
   "metadata": {
    "tags": []
   },
   "outputs": [],
   "source": [
    "fig, ax = plt.subplots(1, 2, figsize=(12,6))\n",
    "# Histogram plot\n",
    "sns.histplot(data=dfsr[dfsr['beam']==50], x='n_fit_photons', ax=ax[0],\n",
    "             bins=[20, 40, 60, 80, 100, 120, 140, 160, 180, 200],\n",
    "             weights=weights)\n",
    "#ax[0].set_xlim([0, 80])\n",
    "ax[0].set_ylim([0, 0.35])\n",
    "ax[0].set_xlabel('Number of fitted photons', fontsize=14)\n",
    "ax[0].set_ylabel('Frequency [%]', fontsize=14)\n",
    "ax[0].set_xticks([20, 40, 60, 80, 100, 120, 140, 160, 180, 200])\n",
    "ax[0].yaxis.grid(True)\n",
    "\n",
    "# Boxplot\n",
    "sns.boxplot(data=new_df, x='n_fit_photons', y='value', ax=ax[1], color='C0')\n",
    "ax[1].set_title(' ')\n",
    "ax[1].set_ylim([-0.7, 0.7])\n",
    "ax[1].set_xlabel('Number of fitted photons', fontsize=14)\n",
    "ax[1].set_ylabel('IS2-UAF depth residual [m]', fontsize=14)\n",
    "ax[1].grid(True)\n",
    "ax[1].set_xticks([0, 1, 2, 3, 4, 5, 6, 7, 8, 9])\n",
    "ax[1].set_xticklabels([20.0, 40.0, 60.0, 80.0, 100.0, 120.0, 140.0, 160.0, 180.0, 200.0])\n",
    "#ax[1].set_ylim([-1, 0.5])\n",
    "ax[1].set_xlim([-0.5, 10.5])\n",
    "fig.tight_layout()\n",
    "#plt.suptitle(\"Creamer's Field\", fontsize=14)\n",
    "#plt.savefig('/home/jovyan/icesat2-snowex/figures/bcef/is2_uaf_number-photon-plots_rgt472_bcef_2022423.png', dpi=500)"
   ]
  },
  {
   "cell_type": "markdown",
   "id": "747f47a3-1e6e-4132-aea3-e653b572a3e7",
   "metadata": {
    "user_expressions": []
   },
   "source": [
    "## SlideRule segment plots\n",
    "Figures using SlideRule data of differing resolution, segment length, etc. Currently a work in progress."
   ]
  },
  {
   "cell_type": "code",
   "execution_count": null,
   "id": "bc06a496-9e95-44e6-ba6d-3eb355a361b2",
   "metadata": {
    "tags": []
   },
   "outputs": [],
   "source": [
    "dfsr_142010 = pd.read_csv('/home/jovyan/icesat2-snowex/snow-depth-data/acp/atl06sr_snowdepth_rgt1097_acp_202234_142010.csv')\n",
    "dfsr_4410050 = pd.read_csv('/home/jovyan/icesat2-snowex/snow-depth-data/acp/atl06sr_snowdepth_rgt1097_acp_202234_4410050.csv')\n",
    "dfsr_44105 = pd.read_csv('/home/jovyan/icesat2-snowex/snow-depth-data/acp/atl06sr_snowdepth_rgt1097_acp_202234_44105.csv')\n",
    "dfsr_444020 = pd.read_csv('/home/jovyan/icesat2-snowex/snow-depth-data/acp/atl06sr_snowdepth_rgt1097_acp_202234_444020.csv')\n",
    "\n",
    "dfsr_142010['is2_snow_off'] = dfsr_142010['is2_height'] - dfsr_142010['lidar_snow_depth']\n",
    "dfsr_4410050['is2_snow_off'] = dfsr_4410050['is2_height'] - dfsr_4410050['lidar_snow_depth']\n",
    "dfsr_44105['is2_snow_off'] = dfsr_44105['is2_height'] - dfsr_44105['lidar_snow_depth']\n",
    "dfsr_444020['is2_snow_off'] = dfsr_444020['is2_height'] - dfsr_444020['lidar_snow_depth']"
   ]
  }
 ],
 "metadata": {
  "kernelspec": {
   "display_name": "base",
   "language": "python",
   "name": "base"
  },
  "language_info": {
   "codemirror_mode": {
    "name": "ipython",
    "version": 3
   },
   "file_extension": ".py",
   "mimetype": "text/x-python",
   "name": "python",
   "nbconvert_exporter": "python",
   "pygments_lexer": "ipython3",
   "version": "3.10.12"
  }
 },
 "nbformat": 4,
 "nbformat_minor": 5
}
