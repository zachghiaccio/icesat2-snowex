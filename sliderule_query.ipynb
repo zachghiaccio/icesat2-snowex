{
 "cells": [
  {
   "cell_type": "markdown",
   "id": "9061d3a8-3209-4267-972d-7d5cd689f463",
   "metadata": {},
   "source": [
    "## Using SlideRule with ICESat-2 data"
   ]
  },
  {
   "cell_type": "markdown",
   "id": "a0e9c31a-db01-487f-a265-847a46b9609b",
   "metadata": {},
   "source": [
    "ICESat-2 has several products that could potentially be used to retrieve surface height and snow depth over SnowEx Alaska sites. The ATL03 product has the finest along-track resolution at 0.7 m, but it is also very noisy without filtering. The ATL06 and ATL08 products are less noisy, and ATL08 can be used to differentiate between vegetation and bare earth, but both are at a coarser resolution than ATL03 (40 m and 100 m, respectively).\n",
    "\n",
    "SlideRule is an ICESat-2 data querying tool that offers a compromise between ATL03 and the higher-level products. It allows users to access ICESat-2 data through the cloud, given spatial bounds and a set of data parameters. Crucially, it also processes ATL03 data in a manner similar to ATL06 (i.e. line segments generated from aggregated signal photons), though the user has more flexibility in the along-track resolution and photon selection criteria (see below).\n",
    "\n",
    "This is a short Jupyter Notebook designed to show how SlideRule could be used to reduce noise in ICESat-2 ATL03 data. We will use Creamer's Field, AK as a testbed."
   ]
  },
  {
   "cell_type": "code",
   "execution_count": null,
   "id": "110b3a2d-8c69-4c7f-bfe3-8c3ac24b5673",
   "metadata": {},
   "outputs": [],
   "source": [
    "import ipywidgets as widgets\n",
    "import logging\n",
    "import concurrent.futures\n",
    "import time\n",
    "from datetime import datetime\n",
    "import numpy as np\n",
    "import pandas as pd\n",
    "import geopandas as gpd\n",
    "import matplotlib.pyplot as plt\n",
    "from pyproj import Transformer, CRS\n",
    "from shapely.geometry import Polygon, Point\n",
    "from sliderule import icesat2\n",
    "from sliderule import sliderule, ipysliderule, io\n",
    "\n",
    "import xarray as xr\n",
    "import geoviews as gv\n",
    "import geoviews.feature as gf\n",
    "from geoviews import dim, opts\n",
    "import geoviews.tile_sources as gts\n",
    "from bokeh.models import HoverTool\n",
    "import hvplot.pandas\n",
    "\n",
    "gv.extension('bokeh')"
   ]
  },
  {
   "cell_type": "code",
   "execution_count": null,
   "id": "aeaa9fcb-5869-4baf-a421-322474232a3e",
   "metadata": {},
   "outputs": [],
   "source": [
    "# Initialize the package\n",
    "icesat2.init(\"slideruleearth.io\", verbose=False)"
   ]
  },
  {
   "cell_type": "markdown",
   "id": "65380b11-8f46-4c41-9642-49cefc079b05",
   "metadata": {},
   "source": [
    "The below cell contains bounding boxes for several SnowEx field sites across Alaska. The tutorial uses the code for Creamer's Field ('cffl')."
   ]
  },
  {
   "cell_type": "code",
   "execution_count": null,
   "id": "a43409f8-dcc8-4c60-8cc4-09561c36ad17",
   "metadata": {},
   "outputs": [],
   "source": [
    "# Define the region of interest. Currently given as 3 blocks of code, but will (hopefully) update this\n",
    "# to use polygons instead.\n",
    "# cpcrw = Caribou/Poker Creek, AK\n",
    "# cffl = Creamer's Field/Farmer's Loop, AK\n",
    "# bcef = Bonanza Creek, AK\n",
    "# acp = Arctic Coastal Plain (Deadhorse area), AK\n",
    "# mesa = Grand Mesa, CO\n",
    "field_id = 'cffl'\n",
    "\n",
    "if field_id == 'cpcrw':\n",
    "    # Caribou/Poker Creek, AK\n",
    "    region = [ {\"lon\":-147.66633, \"lat\": 65.114884},\n",
    "               {\"lon\":-147.379038, \"lat\": 65.114884},\n",
    "               {\"lon\":-147.379038, \"lat\": 65.252394},\n",
    "               {\"lon\":-147.66633, \"lat\": 65.252394},\n",
    "               {\"lon\":-147.66633, \"lat\": 65.114884} ]\n",
    "elif field_id == 'cffl':\n",
    "    # Creamer's Field/Farmer's Loop, AK\n",
    "    region = [ {\"lon\":-147.750873, \"lat\": 64.858387},\n",
    "               {\"lon\":-147.661642, \"lat\": 64.858901},\n",
    "               {\"lon\":-147.661642, \"lat\": 64.888732},\n",
    "               {\"lon\":-147.750873, \"lat\": 64.888732},\n",
    "               {\"lon\":-147.750873, \"lat\": 64.858387} ]\n",
    "elif field_id == 'bcef':\n",
    "    # Bonanza Creek, AK\n",
    "    region = [ {\"lon\":-148.337216, \"lat\": 64.687819},\n",
    "               {\"lon\":-148.243277, \"lat\": 64.687819},\n",
    "               {\"lon\":-148.243277, \"lat\": 64.749681},\n",
    "               {\"lon\":-148.337216, \"lat\": 64.749681},\n",
    "               {\"lon\":-148.337216, \"lat\": 64.687819} ]\n",
    "elif field_id == 'acp':\n",
    "    # Arctic Coastal Plain, AK\n",
    "    region = [ {\"lon\":-148.85, \"lat\": 69.985},\n",
    "               {\"lon\":-148.527, \"lat\": 69.985},\n",
    "               {\"lon\":-148.527, \"lat\": 70.111},\n",
    "               {\"lon\":-148.85, \"lat\": 70.111},\n",
    "               {\"lon\":-148.85, \"lat\": 69.985} ]\n",
    "elif field_id == 'mesa':\n",
    "    # Grand Mesa, CO\n",
    "    region = [ {\"lon\":-108.275, \"lat\": 38.837},\n",
    "               {\"lon\":-108.0, \"lat\": 38.837},\n",
    "               {\"lon\":-108.0, \"lat\": 39.127},\n",
    "               {\"lon\":-108.275, \"lat\": 39.127},\n",
    "               {\"lon\":-108.275, \"lat\": 38.837} ]\n",
    "else:\n",
    "    raise ValueError('Field ID not recognized.')\n",
    "    \n",
    "# To be added: geoJSON usage, add \"buffer zones\" for TOO request preparation\n",
    "region = icesat2.toregion('jsons-shps/cffl_lidar_box.geojson')[\"poly\"]\n",
    "print(region)"
   ]
  },
  {
   "cell_type": "markdown",
   "id": "d2856268-b169-4c0e-967d-b731177754d7",
   "metadata": {},
   "source": [
    "We are now going to build TWO SlideRule requests over Creamer's Field. The first one will include all signal photons (high, medium, low) and will not filter out tree canopies. The second query will only include high-confidence signal photons that are recognized as \"ground\" photons by the ATL08 algorithm.\n",
    "\n",
    "A brief rundown of each of the parameters given below:\n",
    "* \"poly\": The polygon defining our region of interest (defined above as \"region\")\n",
    "* \"srt\": The surface type: land, land ice, sea ice, ocean, or inland water.\n",
    "* \"cnf\": Confidence level of the retrieved ICESat-2 photons. The lower the confidence threshold, generally the noisier the data.\n",
    "* \"ats\": Minimum along-track spread (uncertainty) in photon aggregates (units of meters).\n",
    "* \"len\": Length of line segments of photon aggregates (units of meters).\n",
    "* \"res\": Distance between line segment midpoints, or along-track resolution (units of meters).\n",
    "* \"maxi\": Maximum number of times for the SlideRule algorithm to process photon aggregates into elevation estimates."
   ]
  },
  {
   "cell_type": "code",
   "execution_count": null,
   "id": "4cee8f64-865b-4271-ae7e-83e70978ab31",
   "metadata": {},
   "outputs": [],
   "source": [
    "# Build first request with the specified parameters\n",
    "parms = {\n",
    "    \"poly\": region,\n",
    "    \"srt\": icesat2.SRT_LAND,\n",
    "    \"cnf\": icesat2.CNF_SURFACE_LOW,\n",
    "    \"ats\": 5.0,\n",
    "    \"len\": 20.0,\n",
    "    \"res\": 10.0,\n",
    "    \"maxi\": 5\n",
    "}\n",
    "\n",
    "# Request ATL06 Data (first request)\n",
    "df = icesat2.atl06p(parms, \"nsidc-s3\")\n",
    "\n",
    "# Build second request\n",
    "parms = {\n",
    "    \"poly\": region,\n",
    "    \"srt\": icesat2.SRT_LAND,\n",
    "    \"cnf\": icesat2.CNF_SURFACE_HIGH,\n",
    "    \"atl08_class\": [\"atl08_ground\"],\n",
    "    \"ats\": 5.0,\n",
    "    \"len\": 20.0,\n",
    "    \"res\": 10.0,\n",
    "    \"maxi\": 5\n",
    "}\n",
    "\n",
    "df2 = icesat2.atl06p(parms, \"nsidc-s3\")"
   ]
  },
  {
   "cell_type": "code",
   "execution_count": null,
   "id": "12dec488-cec1-41e2-a215-da9ab85ea795",
   "metadata": {},
   "outputs": [],
   "source": [
    "df.head()"
   ]
  },
  {
   "cell_type": "code",
   "execution_count": null,
   "id": "8ed9ba9e-f4f7-49c2-83e4-1a0b4130e41f",
   "metadata": {},
   "outputs": [],
   "source": [
    "df2.head()"
   ]
  },
  {
   "cell_type": "markdown",
   "id": "ed249361-2090-4fe7-ac85-246af990e506",
   "metadata": {},
   "source": [
    "There's a few things that we can notice right away from the above DataFrame previews. First, the \"h_sigma\" parameter, i.e. the uncertainty in the approximated surface height, is lower in the second DataFrame. As a consequence, the surface height (elevation) estimate (\"h_mean\") differs by several decimeters between the two queries. We will look at this in more detail.\n",
    "\n",
    "Just for reference, let's take a look at the coverage of Creamer's Field from all tracks since 2018."
   ]
  },
  {
   "cell_type": "code",
   "execution_count": null,
   "id": "d7d2b113-7470-4399-b52c-83a85267fdd1",
   "metadata": {},
   "outputs": [],
   "source": [
    "# Sample plot for all of the ICESat-2 tracks since its launch\n",
    "\n",
    "# Calculate Extent\n",
    "lons = [p[\"lon\"] for p in region]\n",
    "lats = [p[\"lat\"] for p in region]\n",
    "lon_margin = (max(lons) - min(lons)) * 0.1\n",
    "lat_margin = (max(lats) - min(lats)) * 0.1\n",
    "\n",
    "# Create Plot\n",
    "fig,(ax1,ax2) = plt.subplots(num=None, ncols=2, figsize=(12, 6))\n",
    "box_lon = [e[\"lon\"] for e in region]\n",
    "box_lat = [e[\"lat\"] for e in region]\n",
    "\n",
    "# Plot SlideRule Ground Tracks\n",
    "ax1.set_title(\"SlideRule Zoomed Ground Tracks\")\n",
    "df2.plot(ax=ax1, column=df2[\"h_mean\"], cmap='winter_r', s=1.0, zorder=3)\n",
    "ax1.plot(box_lon, box_lat, linewidth=1.5, color='r', zorder=2)\n",
    "ax1.set_xlim(min(lons) - lon_margin, max(lons) + lon_margin)\n",
    "ax1.set_ylim(min(lats) - lat_margin, max(lats) + lat_margin)\n",
    "ax1.set_aspect('equal', adjustable='box')\n",
    "\n",
    "# Plot SlideRule Global View\n",
    "ax2.set_title(\"SlideRule Global Reference\")\n",
    "world = gpd.read_file(gpd.datasets.get_path('naturalearth_lowres'))\n",
    "world.plot(ax=ax2, color='0.8', edgecolor='black')\n",
    "df2.plot(ax=ax2, marker='o', color='red', markersize=2.5, zorder=3)\n",
    "ax2.set_xlim(-160,-145)\n",
    "ax2.set_ylim(60,70)\n",
    "ax2.set_aspect('equal', adjustable='box')\n",
    "\n",
    "# Show Plot\n",
    "plt.tight_layout()\n",
    "\n",
    "# List the RGTs that are within the region of interest\n",
    "print(np.unique(df2['rgt']))"
   ]
  },
  {
   "cell_type": "markdown",
   "id": "cf96d336-0d78-417b-8afc-8feea3c20064",
   "metadata": {},
   "source": [
    "The Creamer's Field site is fairly small, so there are only a few ICESat-2 tracks that fly over (without TOOs). To keep thigs simple, let's look at just one of the tracks: RGT 266."
   ]
  },
  {
   "cell_type": "code",
   "execution_count": null,
   "id": "c6aded65-382d-467a-b67d-02babc79459c",
   "metadata": {},
   "outputs": [],
   "source": [
    "# Set up a dataframe that is only applicable for an RGT of interest\n",
    "rgt = 1356\n",
    "rgt_pd = df[df['rgt']==rgt]\n",
    "rgt_pd2 = df2[df2['rgt']==rgt]\n",
    "\n",
    "rgt_pd.head()"
   ]
  },
  {
   "cell_type": "markdown",
   "id": "93466df4-f12a-4b6b-ad27-cd9fe51f88c6",
   "metadata": {},
   "source": [
    "Let's take a look at the height comparisons between our two queries. The below plots show (a) the along-track surface height in July 2021, and (b) the uncertainty (\"h_sigma\") along the same track."
   ]
  },
  {
   "cell_type": "code",
   "execution_count": null,
   "id": "a72c9e9a-8ceb-457b-ae4a-8cd53371137c",
   "metadata": {},
   "outputs": [],
   "source": [
    "# Only look at the central beam, for simplicity\n",
    "rgt_pd_ctr = rgt_pd[rgt_pd['gt']==50]\n",
    "rgt_pd_ctr2 = rgt_pd2[rgt_pd2['gt']==50]\n",
    "\n",
    "#%matplotlib inline\n",
    "plt.plot(rgt_pd_ctr.geometry.y.loc['2022-03'], rgt_pd_ctr['h_mean'].loc['2022-03'], '.', label='Unfiltered')\n",
    "plt.plot(rgt_pd_ctr2.geometry.y.loc['2022-03'], rgt_pd_ctr2['h_mean'].loc['2022-03'], '.', label='Filtered')\n",
    "plt.xlabel('Latitude')\n",
    "plt.ylabel('Elevation [m]')\n",
    "plt.legend()\n",
    "plt.tight_layout()\n",
    "plt.show()"
   ]
  },
  {
   "cell_type": "code",
   "execution_count": null,
   "id": "4591debc-ce0f-4630-bcb4-9fd827e04c41",
   "metadata": {},
   "outputs": [],
   "source": [
    "uf_sigma_mean = rgt_pd_ctr['h_sigma'].loc['2022-03'].mean()\n",
    "f_sigma_mean = rgt_pd_ctr2['h_sigma'].loc['2022-03'].mean()\n",
    "\n",
    "plt.plot(rgt_pd_ctr.geometry.y.loc['2022-03'], rgt_pd_ctr['h_sigma'].loc['2022-03'], '.', label='Unfiltered')\n",
    "plt.plot(rgt_pd_ctr2.geometry.y.loc['2022-03'], rgt_pd_ctr2['h_sigma'].loc['2022-03'], '.', label='Filtered')\n",
    "plt.xlabel('Latitude')\n",
    "plt.ylabel('Height uncertainty [m]')\n",
    "#plt.text(38.85, 37, 'Unfiltered mean $\\sigma_h$ = {:.2f} m'.format(uf_sigma_mean))\n",
    "#plt.text(38.85, 30, 'Filtered mean $\\sigma_h$ = {:.2f} m'.format(f_sigma_mean))\n",
    "plt.legend()\n",
    "plt.tight_layout()\n",
    "plt.show()"
   ]
  },
  {
   "cell_type": "markdown",
   "id": "3ba02fdc-8dd1-4dc4-bbf4-f75bc21aa59e",
   "metadata": {},
   "source": [
    "Looking at these plots, it is obvious that limiting our ICESat-2 data to only high-confidence ground photons reduces noise significantly. At least over Creamer's Field, this appears to be caused by vegetation, as the along-track elevation profile shows elevations several meters above the ground in the unfiltered profile.\n",
    "\n",
    "Creamer's Field is highly vegetated, so a difference is expected when we are more selective with our photons. Over flatter, less vegetated terrain, such as the Arctic Coastal Plain of Alaska, the differences may not be quite as significant.\n",
    "\n",
    "\n",
    "As a last step, let's make a nice-looking map of RGT 266 over Creamer's Field. We will use Holoviews and Geoviews for this."
   ]
  },
  {
   "cell_type": "code",
   "execution_count": null,
   "id": "c154a408-1f59-4510-8d0c-921078c225bb",
   "metadata": {},
   "outputs": [],
   "source": [
    "hover = HoverTool(tooltips=[('Latitude', '@Latitude'),\n",
    "                             ('Longitude', '@Longitude'),\n",
    "                             ('h_mean', '@h_mean'),\n",
    "                             ('rgt', '@rgt')])\n",
    "\n",
    "lidar_boxes = gpd.read_file('/home/jovyan/icesat2-snowex/jsons-shps/snowex_lidar_swaths.shp')\n",
    "lidar_boxes_poly = gv.Polygons(lidar_boxes).opts(color='white', \n",
    "                                                 alpha=0.5)\n",
    "\n",
    "ds = gv.Dataset(rgt_pd2[0:-1:100])\n",
    "points_on_map = gv.Points(rgt_pd2,\n",
    "                          kdims=['Longitude', 'Latitude'],\n",
    "                          vdmins=['h_mean']).opts(tools=[hover],\n",
    "                                                  color_index='h_mean',\n",
    "                                                  colorbar=True,\n",
    "                                                  clabel='Elevation [m]')\n",
    "\n",
    "world_map = gts.EsriImagery.opts(width=600, height=570) * gts.StamenLabels.options(level='annotation')\n",
    "\n",
    "world_map * lidar_boxes_poly * points_on_map"
   ]
  },
  {
   "cell_type": "code",
   "execution_count": null,
   "id": "c6dc167e-73e4-4550-a051-2fd185b3bbd9",
   "metadata": {},
   "outputs": [],
   "source": [
    "# Save the DataFrame to a CSV file\n",
    "df2.to_csv(r'is2_atl03sl_%s.csv' %(field_id))\n",
    "#rgt_pd2.to_csv(r'is2_atl03sl_%s_rgt%s.csv' %(field_id, rgt))"
   ]
  },
  {
   "cell_type": "code",
   "execution_count": null,
   "id": "7a3b1677-1c6c-4aca-95a5-deda5f5969a6",
   "metadata": {
    "tags": []
   },
   "outputs": [],
   "source": [
    "rgt_pd2.head()"
   ]
  },
  {
   "cell_type": "markdown",
   "id": "448ba25a-d8af-4565-953e-67be056106a7",
   "metadata": {},
   "source": [
    "## References\n",
    "Shean et al., (2023). SlideRule: Enabling rapid, scalable, open science for the NASA ICESat-2 mission and beyond. Journal of Open Source Software, 8(81), 4982, https://doi.org/10.21105/joss.04982"
   ]
  }
 ],
 "metadata": {
  "kernelspec": {
   "display_name": "base",
   "language": "python",
   "name": "base"
  },
  "language_info": {
   "codemirror_mode": {
    "name": "ipython",
    "version": 3
   },
   "file_extension": ".py",
   "mimetype": "text/x-python",
   "name": "python",
   "nbconvert_exporter": "python",
   "pygments_lexer": "ipython3",
   "version": "3.10.8"
  }
 },
 "nbformat": 4,
 "nbformat_minor": 5
}
